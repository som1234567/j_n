{
 "cells": [
  {
   "cell_type": "code",
   "execution_count": 2,
   "metadata": {},
   "outputs": [],
   "source": [
    "from functools import reduce"
   ]
  },
  {
   "cell_type": "code",
   "execution_count": 3,
   "metadata": {},
   "outputs": [],
   "source": [
    "class Car:\n",
    "    def __init__(self, make, model, price):\n",
    "        self.make = make\n",
    "        self.model = model\n",
    "        self.price = price\n",
    "\n",
    "\n",
    "cars = [\n",
    "    Car(\"Ford\", \"Anglia\", 300.0),\n",
    "    Car(\"Ford\", \"Cortina\", 700.0),\n",
    "    Car(\"Alfa Romeo\", \"Stradale 33\", 190.0),\n",
    "    Car(\"Alfa Romeo\", \"Giulia\", 500.0),\n",
    "    Car(\"Citroën\", \"2CV\", 75.0),\n",
    "    Car(\"Citroën\", \"Dyane\", 105.0),\n",
    "]\n"
   ]
  },
  {
   "cell_type": "code",
   "execution_count": 6,
   "metadata": {},
   "outputs": [
    {
     "name": "stdout",
     "output_type": "stream",
     "text": [
      "The cheapest Ford is 75.0\n"
     ]
    }
   ],
   "source": [
    "c = reduce(min, map(lambda car: car.price, filter(lambda car : car.make =='Ford', cars)))\n",
    "d = reduce(min, map(lambda car : car.price, cars))\n",
    "print(f'The cheapest Ford is {c}')"
   ]
  },
  {
   "cell_type": "code",
   "execution_count": null,
   "metadata": {},
   "outputs": [],
   "source": []
  },
  {
   "cell_type": "code",
   "execution_count": null,
   "metadata": {},
   "outputs": [],
   "source": []
  }
 ],
 "metadata": {
  "kernelspec": {
   "display_name": "Python 3",
   "language": "python",
   "name": "python3"
  },
  "language_info": {
   "codemirror_mode": {
    "name": "ipython",
    "version": 3
   },
   "file_extension": ".py",
   "mimetype": "text/x-python",
   "name": "python",
   "nbconvert_exporter": "python",
   "pygments_lexer": "ipython3",
   "version": "3.7.6"
  }
 },
 "nbformat": 4,
 "nbformat_minor": 4
}
