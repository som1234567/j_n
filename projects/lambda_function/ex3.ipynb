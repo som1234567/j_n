{
 "cells": [
  {
   "cell_type": "code",
   "execution_count": 36,
   "metadata": {},
   "outputs": [
    {
     "name": "stdout",
     "output_type": "stream",
     "text": [
      "The cheapest Citroën costs: 300.0\n",
      "1000.0\n",
      "2\n"
     ]
    }
   ],
   "source": [
    "from functools import reduce\n",
    "\n",
    "\n",
    "class Car:\n",
    "    def __init__(self, make, model, price):\n",
    "        self.make = make\n",
    "        self.model = model\n",
    "        self.price = price\n",
    "\n",
    "\n",
    "cars = [\n",
    "    Car(\"Ford\", \"Anglia\", 300.0),\n",
    "    Car(\"Ford\", \"Cortina\", 700.0),\n",
    "    Car(\"Alfa Romeo\", \"Stradale 33\", 190.0),\n",
    "    Car(\"Alfa Romeo\", \"Giulia\", 500.0),\n",
    "    Car(\"Citroën\", \"2CV\", 75.0),\n",
    "    Car(\"Citroën\", \"Dyane\", 105.0),\n",
    "]\n",
    "\n",
    "c = reduce(min, map(lambda x : x.price, filter(lambda x : x.make == 'Ford', cars)))\n",
    "print(f\"The cheapest Citroën costs: {c}\")\n",
    "\n",
    "f = reduce(lambda x , y : x+y, map(lambda x : x.price, filter(lambda x : x.make ==\"Ford\", cars)))\n",
    "count_ford = reduce(lambda x , y: x + y, map(lambda x : x.make=='Ford', cars))\n",
    "print(f)\n",
    "print(count_ford)\n"
   ]
  },
  {
   "cell_type": "code",
   "execution_count": 37,
   "metadata": {},
   "outputs": [
    {
     "name": "stdout",
     "output_type": "stream",
     "text": [
      "[]\n"
     ]
    }
   ],
   "source": [
    "result = filter(lambda x : x.model ==\"Ford\", cars)\n",
    "print(list(result))"
   ]
  },
  {
   "cell_type": "code",
   "execution_count": 39,
   "metadata": {},
   "outputs": [
    {
     "name": "stdout",
     "output_type": "stream",
     "text": [
      "{'apple': 1, 'mango': 2, 'banana': 3}\n"
     ]
    }
   ],
   "source": [
    "fruits = ['apple', 'mango', 'banana']\n",
    "number = [1 , 2, 3]\n",
    "\n",
    "d = dict(zip(fruits, number))\n",
    "print(d)"
   ]
  },
  {
   "cell_type": "code",
   "execution_count": null,
   "metadata": {},
   "outputs": [],
   "source": []
  }
 ],
 "metadata": {
  "kernelspec": {
   "display_name": "Python 3",
   "language": "python",
   "name": "python3"
  },
  "language_info": {
   "codemirror_mode": {
    "name": "ipython",
    "version": 3
   },
   "file_extension": ".py",
   "mimetype": "text/x-python",
   "name": "python",
   "nbconvert_exporter": "python",
   "pygments_lexer": "ipython3",
   "version": "3.7.6"
  }
 },
 "nbformat": 4,
 "nbformat_minor": 4
}
