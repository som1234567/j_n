{
 "cells": [
  {
   "cell_type": "code",
   "execution_count": 2,
   "metadata": {},
   "outputs": [
    {
     "name": "stdout",
     "output_type": "stream",
     "text": [
      "[1, 4, 9, 16, 25]\n"
     ]
    }
   ],
   "source": [
    "digits = [1, 2, 3, 4, 5]\n",
    "square = map(lambda x : x*x, digits)\n",
    "print(list(square))"
   ]
  },
  {
   "cell_type": "code",
   "execution_count": 4,
   "metadata": {},
   "outputs": [
    {
     "name": "stdout",
     "output_type": "stream",
     "text": [
      "{'oranges': 7, 'mangoes': 7, 'apples': 6, 'watermelon': 10}\n"
     ]
    }
   ],
   "source": [
    "fruits = ['oranges', 'mangoes', 'apples', 'watermelon']\n",
    "fruit_dict = dict(map(lambda x : (x, len(x)), fruits))\n",
    "print(fruit_dict)"
   ]
  },
  {
   "cell_type": "code",
   "execution_count": 16,
   "metadata": {},
   "outputs": [],
   "source": [
    "fruits = ['oranges', 'mangoes', 'apples', 'watermelon', 'banana']\n",
    "digits = [1, 2, 3, 4, 5]\n",
    "new_dict = [(x , y) for x, y in zip(fruits, digits)]"
   ]
  },
  {
   "cell_type": "code",
   "execution_count": 17,
   "metadata": {},
   "outputs": [
    {
     "name": "stdout",
     "output_type": "stream",
     "text": [
      "[('oranges', 1), ('mangoes', 2), ('apples', 3), ('watermelon', 4), ('banana', 5)]\n"
     ]
    }
   ],
   "source": [
    "print(new_dict)"
   ]
  },
  {
   "cell_type": "code",
   "execution_count": 19,
   "metadata": {},
   "outputs": [],
   "source": [
    "result = dict(map(lambda x : (x[0],x[1]), new_dict))"
   ]
  },
  {
   "cell_type": "code",
   "execution_count": 20,
   "metadata": {},
   "outputs": [
    {
     "name": "stdout",
     "output_type": "stream",
     "text": [
      "{'oranges': 1, 'mangoes': 2, 'apples': 3, 'watermelon': 4, 'banana': 5}\n"
     ]
    }
   ],
   "source": [
    "print(result)"
   ]
  },
  {
   "cell_type": "code",
   "execution_count": 36,
   "metadata": {},
   "outputs": [
    {
     "name": "stdout",
     "output_type": "stream",
     "text": [
      "{'aoranges': 1, 'amangoes': 2, 'apples': 3}\n"
     ]
    }
   ],
   "source": [
    "my_dict = {'aoranges': 1, 'amangoes': 2, 'apples': 3, 'watermelon': 4, 'banana': 5}\n",
    "selected_fruits = filter(lambda x : x[0][0]=='a', my_dict.items())\n",
    "print(dict(selected_fruits))"
   ]
  },
  {
   "cell_type": "code",
   "execution_count": 58,
   "metadata": {},
   "outputs": [
    {
     "name": "stdout",
     "output_type": "stream",
     "text": [
      "4950\n"
     ]
    }
   ],
   "source": [
    "import functools\n",
    "sums = functools.reduce(lambda x,y: x+y, range(100))\n",
    "print(sums)"
   ]
  },
  {
   "cell_type": "code",
   "execution_count": 54,
   "metadata": {},
   "outputs": [
    {
     "name": "stdout",
     "output_type": "stream",
     "text": [
      "1\n"
     ]
    }
   ],
   "source": [
    "min_number = functools.reduce(min, digits)\n",
    "print(min_number)"
   ]
  },
  {
   "cell_type": "code",
   "execution_count": null,
   "metadata": {},
   "outputs": [],
   "source": []
  }
 ],
 "metadata": {
  "kernelspec": {
   "display_name": "Python 3",
   "language": "python",
   "name": "python3"
  },
  "language_info": {
   "codemirror_mode": {
    "name": "ipython",
    "version": 3
   },
   "file_extension": ".py",
   "mimetype": "text/x-python",
   "name": "python",
   "nbconvert_exporter": "python",
   "pygments_lexer": "ipython3",
   "version": "3.7.6"
  }
 },
 "nbformat": 4,
 "nbformat_minor": 4
}
