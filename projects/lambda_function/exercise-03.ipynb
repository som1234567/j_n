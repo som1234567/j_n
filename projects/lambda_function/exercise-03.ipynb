{
 "cells": [
  {
   "cell_type": "code",
   "execution_count": 1,
   "metadata": {},
   "outputs": [
    {
     "data": {
      "text/plain": [
       "'Given car list from example-04, find out the following using reduce-filter or map-filter-reduce:\\n\\n1. What is the total cost of all Alfa Romeos on the list?\\n2. What is the count of all Fords on the list? Hint: use initial = 0\\n'"
      ]
     },
     "execution_count": 1,
     "metadata": {},
     "output_type": "execute_result"
    }
   ],
   "source": [
    "\"\"\"Given car list from example-04, find out the following using reduce-filter or map-filter-reduce:\n",
    "\n",
    "1. What is the total cost of all Alfa Romeos on the list?\n",
    "2. What is the count of all Fords on the list? Hint: use initial = 0\n",
    "\"\"\"\n"
   ]
  },
  {
   "cell_type": "code",
   "execution_count": 2,
   "metadata": {},
   "outputs": [],
   "source": [
    "from functools import reduce\n",
    "\n",
    "\n",
    "class Car:\n",
    "    def __init__(self, make, model, price):\n",
    "        self.make = make\n",
    "        self.model = model\n",
    "        self.price = price\n",
    "\n",
    "\n",
    "cars = [\n",
    "    Car(\"Ford\", \"Anglia\", 300.0),\n",
    "    Car(\"Ford\", \"Cortina\", 700.0),\n",
    "    Car(\"Alfa Romeo\", \"Stradale 33\", 190.0),\n",
    "    Car(\"Alfa Romeo\", \"Giulia\", 500.0),\n",
    "    Car(\"Citroën\", \"2CV\", 75.0),\n",
    "    Car(\"Citroën\", \"Dyane\", 105.0),\n",
    "]\n",
    "\n"
   ]
  },
  {
   "cell_type": "code",
   "execution_count": 20,
   "metadata": {},
   "outputs": [
    {
     "data": {
      "text/plain": [
       "<filter at 0x110dba510>"
      ]
     },
     "execution_count": 20,
     "metadata": {},
     "output_type": "execute_result"
    }
   ],
   "source": [
    "count_ford = filter(lambda x : x.make=='Ford', cars)\n",
    "count_ford"
   ]
  },
  {
   "cell_type": "code",
   "execution_count": 6,
   "metadata": {},
   "outputs": [
    {
     "name": "stdout",
     "output_type": "stream",
     "text": [
      "690.0\n",
      "690.0\n"
     ]
    }
   ],
   "source": [
    "alfa_cost = reduce(lambda x, y : x + y, map(lambda car : car.price, filter(lambda car : car.make =='Alfa Romeo', cars)))\n",
    "print(alfa_cost)\n",
    "# Solution without using map-filter-reduce\n",
    "alfa_cost = sum(car.price for car in cars if car.make == \"Alfa Romeo\")\n",
    "print(alfa_cost)"
   ]
  },
  {
   "cell_type": "code",
   "execution_count": 8,
   "metadata": {},
   "outputs": [
    {
     "name": "stdout",
     "output_type": "stream",
     "text": [
      "2\n"
     ]
    }
   ],
   "source": [
    "ford_count = reduce(lambda x, _ : x +1, filter(lambda car : car.make == 'Ford', cars), 0)\n",
    "print(ford_count)"
   ]
  },
  {
   "cell_type": "code",
   "execution_count": 7,
   "metadata": {},
   "outputs": [
    {
     "name": "stdout",
     "output_type": "stream",
     "text": [
      "The list contains 2 Ford cars.\n"
     ]
    }
   ],
   "source": [
    "ford_count = reduce(lambda x, _: x + 1, filter(lambda car: car.make == \"Ford\", cars), 0)\n",
    "print(f\"The list contains {ford_count} Ford cars.\")\n",
    "# Solution without using map-filter-reduce\n",
    "ford_count = len([car for car in cars if car.make == \"Ford\"])\n"
   ]
  },
  {
   "cell_type": "code",
   "execution_count": null,
   "metadata": {},
   "outputs": [],
   "source": []
  }
 ],
 "metadata": {
  "kernelspec": {
   "display_name": "Python 3",
   "language": "python",
   "name": "python3"
  },
  "language_info": {
   "codemirror_mode": {
    "name": "ipython",
    "version": 3
   },
   "file_extension": ".py",
   "mimetype": "text/x-python",
   "name": "python",
   "nbconvert_exporter": "python",
   "pygments_lexer": "ipython3",
   "version": "3.7.6"
  }
 },
 "nbformat": 4,
 "nbformat_minor": 4
}
