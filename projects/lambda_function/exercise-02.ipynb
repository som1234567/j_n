{
 "cells": [
  {
   "cell_type": "code",
   "execution_count": 1,
   "metadata": {},
   "outputs": [
    {
     "data": {
      "text/plain": [
       "'\\n1. Given list `digits = [1, 2, 5, 9]`, create a list of their squares\\nusing `map()` and a lambda.\\n>>> digits = [1, 2, 5, 9]\\n>>> list(map(lambda x: x*x, digits))\\n[1, 4, 25, 81]\\n\\n2. Given list `fruit = [\"apples\", \"oranges\", \"grapes\"]`, create a\\ndictionary, where the string is the key, and the value is string’s\\nlength. Use `map()` and a lambda.\\n>>> fruit = [\"apples\", \"oranges\", \"grapes\"]\\n>>> dict(map(lambda s: (s, len(s)), fruit))\\n{\\'apples\\': 6, \\'oranges\\': 7, \\'grapes\\': 6}\\n'"
      ]
     },
     "execution_count": 1,
     "metadata": {},
     "output_type": "execute_result"
    }
   ],
   "source": [
    "\"\"\"\n",
    "1. Given list `digits = [1, 2, 5, 9]`, create a list of their squares\n",
    "using `map()` and a lambda.\n",
    ">>> digits = [1, 2, 5, 9]\n",
    ">>> list(map(lambda x: x*x, digits))\n",
    "[1, 4, 25, 81]\n",
    "\n",
    "2. Given list `fruit = [\"apples\", \"oranges\", \"grapes\"]`, create a\n",
    "dictionary, where the string is the key, and the value is string’s\n",
    "length. Use `map()` and a lambda.\n",
    ">>> fruit = [\"apples\", \"oranges\", \"grapes\"]\n",
    ">>> dict(map(lambda s: (s, len(s)), fruit))\n",
    "{'apples': 6, 'oranges': 7, 'grapes': 6}\n",
    "\"\"\"\n"
   ]
  },
  {
   "cell_type": "code",
   "execution_count": 2,
   "metadata": {},
   "outputs": [
    {
     "name": "stdout",
     "output_type": "stream",
     "text": [
      "[1, 4, 9, 16, 25]\n"
     ]
    }
   ],
   "source": [
    "digits = [1, 2, 3, 4, 5]\n",
    "result = list(map(lambda x : x ** 2, digits))\n",
    "print(result)"
   ]
  },
  {
   "cell_type": "code",
   "execution_count": 10,
   "metadata": {},
   "outputs": [
    {
     "name": "stdout",
     "output_type": "stream",
     "text": [
      "{'apples': 6, 'oranges': 7, 'grapes': 6}\n"
     ]
    }
   ],
   "source": [
    "fruit = ['apples', 'oranges', 'grapes']\n",
    "result = dict(map(lambda x : (x, len(x)), fruit))\n",
    "print(result)"
   ]
  },
  {
   "cell_type": "code",
   "execution_count": 8,
   "metadata": {},
   "outputs": [
    {
     "name": "stdout",
     "output_type": "stream",
     "text": [
      "[1, 3, 5]\n"
     ]
    }
   ],
   "source": [
    "import itertools\n",
    "filter_digits = [True, False, True, False, True]\n",
    "result = itertools.compress(digits, filter_digits) # filters the true values... corresponding to filter_digits\n",
    "print(list(result))"
   ]
  },
  {
   "cell_type": "code",
   "execution_count": null,
   "metadata": {},
   "outputs": [],
   "source": []
  }
 ],
 "metadata": {
  "kernelspec": {
   "display_name": "Python 3",
   "language": "python",
   "name": "python3"
  },
  "language_info": {
   "codemirror_mode": {
    "name": "ipython",
    "version": 3
   },
   "file_extension": ".py",
   "mimetype": "text/x-python",
   "name": "python",
   "nbconvert_exporter": "python",
   "pygments_lexer": "ipython3",
   "version": "3.7.6"
  }
 },
 "nbformat": 4,
 "nbformat_minor": 4
}
