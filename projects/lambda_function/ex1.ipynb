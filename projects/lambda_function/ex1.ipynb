{
 "cells": [
  {
   "cell_type": "code",
   "execution_count": 26,
   "metadata": {},
   "outputs": [
    {
     "name": "stdout",
     "output_type": "stream",
     "text": [
      "['aaa', 'bbb', 'cccc']\n",
      "['bbb', 'cccc', 'aaa']\n",
      "['cccc', 'aaa', 'bbb']\n",
      "['bbb', 'cccc', 'aaa']\n"
     ]
    }
   ],
   "source": [
    "import datetime\n",
    "class User:\n",
    "    def __init__(self, name):\n",
    "        self.name = name\n",
    "        self.registered_on = datetime.datetime.now()\n",
    "        self.last_seen = self.registered_on\n",
    "        self.number_of_logins = 1\n",
    "        \n",
    "    \n",
    "user = [User('aaa'), User('bbb'), User('cccc')]\n",
    "\n",
    "user[0].number_of_logins = 9\n",
    "user[2].last_seen -= datetime.timedelta(days=3)\n",
    "user[0].registered_on += datetime.timedelta(days=1)\n",
    "\n",
    "by_name = sorted(user, key=lambda x : x.name)\n",
    "by_registered_on = sorted(user, key=lambda x : x.registered_on)\n",
    "by_last_seen = sorted(user, key=lambda x : x.last_seen)\n",
    "by_number_of_logins = sorted(user, key=lambda x : x.number_of_logins)\n",
    "\n",
    "print([u.name for u in by_name])\n",
    "print([u.name for u in by_registered_on])\n",
    "print([u.name for u in by_last_seen])\n",
    "print([u.name for u in by_number_of_logins])\n",
    "\n"
   ]
  },
  {
   "cell_type": "code",
   "execution_count": null,
   "metadata": {},
   "outputs": [],
   "source": []
  },
  {
   "cell_type": "code",
   "execution_count": null,
   "metadata": {},
   "outputs": [],
   "source": []
  }
 ],
 "metadata": {
  "kernelspec": {
   "display_name": "Python 3",
   "language": "python",
   "name": "python3"
  },
  "language_info": {
   "codemirror_mode": {
    "name": "ipython",
    "version": 3
   },
   "file_extension": ".py",
   "mimetype": "text/x-python",
   "name": "python",
   "nbconvert_exporter": "python",
   "pygments_lexer": "ipython3",
   "version": "3.7.6"
  }
 },
 "nbformat": 4,
 "nbformat_minor": 4
}
