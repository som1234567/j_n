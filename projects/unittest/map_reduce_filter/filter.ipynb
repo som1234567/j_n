{
 "cells": [
  {
   "cell_type": "code",
   "execution_count": 21,
   "metadata": {},
   "outputs": [
    {
     "name": "stdout",
     "output_type": "stream",
     "text": [
      "1\n",
      "2\n",
      "6\n",
      "12\n",
      "12\n",
      "0\n"
     ]
    }
   ],
   "source": [
    "import itertools\n",
    "def filter_numbers(n):\n",
    "    if n < 2:\n",
    "        return True\n",
    "    return False\n",
    "\n",
    "numbers = [0, 1, 2, 3, 4, 5, 6, 7, 8, 9, 10, 11, 12]\n",
    "\n",
    "result = filter(filter_numbers, numbers) # itertools.compress can also be used to filter\n",
    "\n",
    "result1 = itertools.filterfalse(filter_numbers, numbers)\n",
    "nums = [1, 2, 3, 2, 1, 0]\n",
    "result2 = itertools.dropwhile(filter_numbers, nums) # drops while it is true and once it gets false... \n",
    "result3 = itertools.takewhile(filter_numbers, nums) # returns the number until it is true and once it gets flase ...gets stopped\n",
    "result4 = itertools.accumulate(nums) # accumlates the numbers\n",
    "import operator\n",
    "result5 = itertools.accumulate(nums, operator.mul)\n",
    "for item in result5:\n",
    "    print(item)"
   ]
  },
  {
   "cell_type": "code",
   "execution_count": null,
   "metadata": {},
   "outputs": [],
   "source": []
  },
  {
   "cell_type": "code",
   "execution_count": null,
   "metadata": {},
   "outputs": [],
   "source": []
  }
 ],
 "metadata": {
  "kernelspec": {
   "display_name": "Python 3",
   "language": "python",
   "name": "python3"
  },
  "language_info": {
   "codemirror_mode": {
    "name": "ipython",
    "version": 3
   },
   "file_extension": ".py",
   "mimetype": "text/x-python",
   "name": "python",
   "nbconvert_exporter": "python",
   "pygments_lexer": "ipython3",
   "version": "3.7.6"
  }
 },
 "nbformat": 4,
 "nbformat_minor": 4
}
