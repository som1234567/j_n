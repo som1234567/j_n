{
 "cells": [
  {
   "cell_type": "code",
   "execution_count": 1,
   "metadata": {},
   "outputs": [
    {
     "data": {
      "text/plain": [
       "'\\n- Given a list of `User` objects, try sorting them using:\\n    -  `registered_on` \\n    - `number_of_logins` \\n    - `last_seen`\\n- To do that, use either `list.sort()` or `sorted()`. Both support a keyword parameter `key=callable`. \\n- Result of `callable` will be compared using comparison operators to determine order in list\\n'"
      ]
     },
     "execution_count": 1,
     "metadata": {},
     "output_type": "execute_result"
    }
   ],
   "source": [
    "import datetime\n",
    "\"\"\"\n",
    "- Given a list of `User` objects, try sorting them using:\n",
    "    -  `registered_on` \n",
    "    - `number_of_logins` \n",
    "    - `last_seen`\n",
    "- To do that, use either `list.sort()` or `sorted()`. Both support a keyword parameter `key=callable`. \n",
    "- Result of `callable` will be compared using comparison operators to determine order in list\n",
    "\"\"\"\n"
   ]
  },
  {
   "cell_type": "code",
   "execution_count": 2,
   "metadata": {},
   "outputs": [],
   "source": [
    "class User:\n",
    "    def __init__(self, name):\n",
    "        self.name = name\n",
    "        self.registered_on = datetime.datetime.now()\n",
    "        self.last_seen = self.registered_on\n",
    "        self.number_of_logins = 1"
   ]
  },
  {
   "cell_type": "code",
   "execution_count": 3,
   "metadata": {},
   "outputs": [],
   "source": [
    "user = [User(\"Sudhan\"), User('Suchitra'), User('Rhythm')]\n",
    "user[0].number_of_logins = 22\n",
    "user[1].number_of_logins = 11\n",
    "user[0].last_seen -= datetime.timedelta(days=1)\n",
    "user[2].last_seen -= datetime.timedelta(days=5)"
   ]
  },
  {
   "cell_type": "code",
   "execution_count": 4,
   "metadata": {},
   "outputs": [],
   "source": [
    "if __name__ == '__main__':\n",
    "    by_registered_on = sorted(user, key=lambda x : x.registered_on)\n",
    "    by_last_seen = sorted(user, key=lambda x : x.last_seen)\n",
    "    by_logins = sorted(user, key=lambda x : x.number_of_logins)"
   ]
  },
  {
   "cell_type": "code",
   "execution_count": 17,
   "metadata": {},
   "outputs": [
    {
     "name": "stdout",
     "output_type": "stream",
     "text": [
      "User in order of registration ['Sudhan', 'Suchitra', 'Rhythm']\n",
      "--------------------\n",
      "User in order of last logins ['Rhythm', 'Sudhan', 'Suchitra']\n",
      "--------------------\n",
      "User in order of number of logins ['Rhythm', 'Suchitra', 'Sudhan']\n"
     ]
    }
   ],
   "source": [
    "print(f'User in order of registration {[u.name for u in by_registered_on]}')\n",
    "print('-'*20)\n",
    "print(f'User in order of last logins {[u.name for u in by_last_seen]}')\n",
    "print('-'*20)\n",
    "print(f'User in order of number of logins {[u.name for u in by_logins]}')"
   ]
  },
  {
   "cell_type": "code",
   "execution_count": null,
   "metadata": {},
   "outputs": [],
   "source": []
  }
 ],
 "metadata": {
  "kernelspec": {
   "display_name": "Python 3",
   "language": "python",
   "name": "python3"
  },
  "language_info": {
   "codemirror_mode": {
    "name": "ipython",
    "version": 3
   },
   "file_extension": ".py",
   "mimetype": "text/x-python",
   "name": "python",
   "nbconvert_exporter": "python",
   "pygments_lexer": "ipython3",
   "version": "3.7.6"
  }
 },
 "nbformat": 4,
 "nbformat_minor": 4
}
