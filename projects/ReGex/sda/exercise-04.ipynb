{
 "cells": [
  {
   "cell_type": "code",
   "execution_count": 12,
   "metadata": {},
   "outputs": [
    {
     "name": "stdout",
     "output_type": "stream",
     "text": [
      "user : bjandourek0 and domain : stanford.edu\n",
      "user : mtimothy1 and domain : deviantart.com\n",
      "user : mdodding2 and domain : de-decms.com\n",
      "user : kwessing3 and domain : linkedin.com\n",
      "user : cstallion4 and domain : printfriendly.com\n"
     ]
    }
   ],
   "source": [
    "import re\n",
    "emails = '''\n",
    "            bjandourek0@stanford.edu\n",
    "            mtimothy1@deviantart.com\n",
    "            mdodding2@de-decms.com\n",
    "            kwessing3@linkedin.com\n",
    "            cstallion4@printfriendly.com\n",
    "'''\n",
    "\n",
    "pattern = re.compile(r'([a-zA-Z0-9]+)@([a-z-]+\\.(edu|com))')\n",
    "matches = pattern.finditer(emails)\n",
    "\n",
    "for match in matches:\n",
    "    print(f\"user : {match.group(1)} and domain : {match.group(2)}\")"
   ]
  },
  {
   "cell_type": "code",
   "execution_count": null,
   "metadata": {},
   "outputs": [],
   "source": []
  }
 ],
 "metadata": {
  "kernelspec": {
   "display_name": "Python 3",
   "language": "python",
   "name": "python3"
  },
  "language_info": {
   "codemirror_mode": {
    "name": "ipython",
    "version": 3
   },
   "file_extension": ".py",
   "mimetype": "text/x-python",
   "name": "python",
   "nbconvert_exporter": "python",
   "pygments_lexer": "ipython3",
   "version": "3.7.6"
  }
 },
 "nbformat": 4,
 "nbformat_minor": 4
}
