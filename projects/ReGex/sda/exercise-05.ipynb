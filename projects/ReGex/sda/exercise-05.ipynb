{
 "cells": [
  {
   "cell_type": "code",
   "execution_count": 31,
   "metadata": {},
   "outputs": [
    {
     "name": "stdout",
     "output_type": "stream",
     "text": [
      "['lately.', 'other.', 'nature.', 'police.', 'Holland.', 'companion.']\n",
      "6\n"
     ]
    }
   ],
   "source": [
    "import re\n",
    "lines = []\n",
    "with open(\"holmes.txt\") as f:\n",
    "    reader = f.read()\n",
    "    ends = re.findall(\"\\w+\\.\", reader)\n",
    "    \n",
    "print(ends)\n",
    "print(len(ends))\n",
    "    "
   ]
  },
  {
   "cell_type": "code",
   "execution_count": null,
   "metadata": {},
   "outputs": [],
   "source": []
  }
 ],
 "metadata": {
  "kernelspec": {
   "display_name": "Python 3",
   "language": "python",
   "name": "python3"
  },
  "language_info": {
   "codemirror_mode": {
    "name": "ipython",
    "version": 3
   },
   "file_extension": ".py",
   "mimetype": "text/x-python",
   "name": "python",
   "nbconvert_exporter": "python",
   "pygments_lexer": "ipython3",
   "version": "3.7.6"
  }
 },
 "nbformat": 4,
 "nbformat_minor": 4
}
