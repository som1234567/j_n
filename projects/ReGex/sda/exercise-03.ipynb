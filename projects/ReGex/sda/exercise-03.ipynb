{
 "cells": [
  {
   "cell_type": "markdown",
   "metadata": {},
   "source": [
    "# Write a pattern matching the following e-mails. Test it.\n",
    "    bjandourek0@stanford.edu\n",
    "    mtimothy1@deviantart.com\n",
    "    mdodding2@de-decms.com\n",
    "    kwessing3@linkedin.com\n",
    "    cstallion4@printfriendly.com\n"
   ]
  },
  {
   "cell_type": "code",
   "execution_count": 7,
   "metadata": {},
   "outputs": [
    {
     "name": "stdout",
     "output_type": "stream",
     "text": [
      "bjandourek0@stanford.edu\n",
      "mtimothy1@deviantart.com\n",
      "mdodding2@de-decms.com\n",
      "kwessing3@linkedin.com\n",
      "cstallion4@printfriendly.com\n"
     ]
    }
   ],
   "source": [
    "import re\n",
    "emails = '''\n",
    "            bjandourek0@stanford.edu\n",
    "            mtimothy1@deviantart.com\n",
    "            mdodding2@de-decms.com\n",
    "            kwessing3@linkedin.com\n",
    "            cstallion4@printfriendly.com\n",
    "'''\n",
    "\n",
    "pattern = re.compile(r'[a-zA-Z0-9]+@[a-z-]+\\.(edu|com)')\n",
    "matches = pattern.finditer(emails)\n",
    "\n",
    "for match in matches:\n",
    "    print(match.group(0))\n",
    "    "
   ]
  },
  {
   "cell_type": "code",
   "execution_count": null,
   "metadata": {},
   "outputs": [],
   "source": []
  }
 ],
 "metadata": {
  "kernelspec": {
   "display_name": "Python 3",
   "language": "python",
   "name": "python3"
  },
  "language_info": {
   "codemirror_mode": {
    "name": "ipython",
    "version": 3
   },
   "file_extension": ".py",
   "mimetype": "text/x-python",
   "name": "python",
   "nbconvert_exporter": "python",
   "pygments_lexer": "ipython3",
   "version": "3.7.6"
  }
 },
 "nbformat": 4,
 "nbformat_minor": 4
}
