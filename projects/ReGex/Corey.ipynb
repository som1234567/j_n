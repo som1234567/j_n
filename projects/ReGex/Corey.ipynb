{
 "cells": [
  {
   "cell_type": "code",
   "execution_count": 29,
   "metadata": {},
   "outputs": [],
   "source": [
    "import re\n",
    "\n",
    "text_to_search = '''abcdefghijklmnopqrstuvwxyz\n",
    "                    ABCDEFGHIJKLMNOPQRSTUVWXYZ\n",
    "                    \n",
    "                    Mr. Dave Martin\n",
    "                    615-555-7164\n",
    "                    173 Main St., Springfield RI 55924\n",
    "                    davemartin@bogusemail.com\n",
    "\n",
    "                    Mrs. Charles Harris\n",
    "                    800-555-5669\n",
    "                    969 High St., Atlantis VA 34075\n",
    "                    charlesharris@bogusemail.com\n",
    "\n",
    "                    Ms. Eric Williams\n",
    "                    560*555*5153\n",
    "                    806 1st St., Faketown AK 86847\n",
    "                    laurawilliams@bogusemail.com\n",
    "\n",
    "                    Mr. Corey Jefferson\n",
    "                    900-555-9340\n",
    "                    826 Elm St., Epicburg NE 10671\n",
    "                    coreyjefferson@bogusemail.com\n",
    "                    \n",
    "                    \n",
    "                    Mr. Schafer\n",
    "                    Mr Smith\n",
    "                    Ms Davis\n",
    "                    Mrs. Robinson\n",
    "                    Mr. T\n",
    "                    \n",
    "                    cat\n",
    "                    mat\n",
    "                    bat\n",
    "                    pat\n",
    "'''\n",
    "\n",
    "sentence = \"Start a sentence and bring it to an end. \""
   ]
  },
  {
   "cell_type": "code",
   "execution_count": 2,
   "metadata": {},
   "outputs": [
    {
     "name": "stdout",
     "output_type": "stream",
     "text": [
      "<re.Match object; span=(0, 3), match='abc'>\n"
     ]
    }
   ],
   "source": [
    "pattern = re.compile(r'abc')\n",
    "matches = pattern.finditer(text_to_search)\n",
    "\n",
    "for match in matches:\n",
    "    print(match)"
   ]
  },
  {
   "cell_type": "code",
   "execution_count": 3,
   "metadata": {},
   "outputs": [
    {
     "name": "stdout",
     "output_type": "stream",
     "text": [
      "abc\n"
     ]
    }
   ],
   "source": [
    "print(text_to_search[0:3]) # just to check the result..."
   ]
  },
  {
   "cell_type": "code",
   "execution_count": 15,
   "metadata": {},
   "outputs": [
    {
     "name": "stdout",
     "output_type": "stream",
     "text": [
      "<re.Match object; span=(151, 163), match='615-555-7164'>\n",
      "<re.Match object; span=(326, 338), match='800-555-5669'>\n",
      "<re.Match object; span=(673, 685), match='900-555-9340'>\n"
     ]
    }
   ],
   "source": [
    "pattern = re.compile(r'\\d\\d\\d-\\d\\d\\d-\\d\\d\\d\\d')# three numbers seperated by -\n",
    "matches = pattern.finditer(text_to_search)\n",
    "\n",
    "for match in matches:\n",
    "    print(match)"
   ]
  },
  {
   "cell_type": "code",
   "execution_count": 5,
   "metadata": {},
   "outputs": [
    {
     "name": "stdout",
     "output_type": "stream",
     "text": [
      "numbers that begin with 8 or 9:: \n",
      "<re.Match object; span=(326, 338), match='800-555-5669'>\n",
      "<re.Match object; span=(673, 685), match='900-555-9340'>\n"
     ]
    }
   ],
   "source": [
    "# pattern = re.compile(r'\\.') #escaping character with '\\'\n",
    "pattern = re.compile(r'[89]\\d{2}[-.*]\\d{3}[-.*]\\d{4}') # selects either 8 or 9 and 2 - digits\n",
    "matches = pattern.finditer(text_to_search)\n",
    "\n",
    "print('numbers that begin with 8 or 9:: ')\n",
    "\n",
    "for match in matches:\n",
    "    print(match)"
   ]
  },
  {
   "cell_type": "raw",
   "metadata": {},
   "source": [
    " .  - Any Character Except New Line\n",
    "\\d - Digit (0-9)\n",
    "\\D - Not a Digit (0-9)\n",
    "\\w - Word Character (a-z, A-Z, 0-9, _)\n",
    "\\W - Not a Word Character\n",
    "\\s - Whitespace (space, tab, newline)\n",
    "\\S - Not Whitespace (space, tab, newline)\n",
    "\n",
    "\\b - Word Boundary\n",
    "\\B - Not a Word Boundary\n",
    "^  - Begining of a String\n",
    "$  - End of a String\n",
    "\n",
    "[] - Matches characters in brackets\n",
    "[^ ]- Matches characters no in brackets´\n",
    "|   - Either or \n",
    "()  - group"
   ]
  },
  {
   "cell_type": "code",
   "execution_count": 14,
   "metadata": {},
   "outputs": [
    {
     "name": "stdout",
     "output_type": "stream",
     "text": [
      "<re.Match object; span=(828, 831), match='cat'>\n",
      "<re.Match object; span=(852, 855), match='mat'>\n",
      "<re.Match object; span=(900, 903), match='pat'>\n"
     ]
    }
   ],
   "source": [
    "pattern = re.compile(r'[^b]at') # does not start with b but has _at\n",
    "matches = pattern.finditer(text_to_search)\n",
    "\n",
    "for match in matches:\n",
    "    print(match)"
   ]
  },
  {
   "cell_type": "code",
   "execution_count": 18,
   "metadata": {},
   "outputs": [
    {
     "name": "stdout",
     "output_type": "stream",
     "text": [
      "<re.Match object; span=(115, 123), match='Mr. Dave'>\n",
      "<re.Match object; span=(633, 642), match='Mr. Corey'>\n"
     ]
    }
   ],
   "source": [
    "pattern = re.compile(r'Mr\\.?\\s[A-Z]\\w*') \n",
    "matches = pattern.finditer(text_to_search)\n",
    "\n",
    "for match in matches:\n",
    "    print(match)\n"
   ]
  },
  {
   "cell_type": "code",
   "execution_count": 19,
   "metadata": {},
   "outputs": [
    {
     "name": "stdout",
     "output_type": "stream",
     "text": [
      "<re.Match object; span=(115, 123), match='Mr. Dave'>\n",
      "<re.Match object; span=(633, 642), match='Mr. Corey'>\n"
     ]
    }
   ],
   "source": [
    "pattern = re.compile(r'Mr\\.?\\s[A-Z]\\w*') \n",
    "matches = pattern.finditer(text_to_search)\n",
    "\n",
    "for match in matches:\n",
    "    print(match)"
   ]
  },
  {
   "cell_type": "code",
   "execution_count": 31,
   "metadata": {},
   "outputs": [
    {
     "name": "stdout",
     "output_type": "stream",
     "text": [
      "<re.Match object; span=(115, 130), match='Mr. Dave Martin'>\n",
      "<re.Match object; span=(286, 305), match='Mrs. Charles Harris'>\n",
      "<re.Match object; span=(461, 478), match='Ms. Eric Williams'>\n",
      "<re.Match object; span=(633, 652), match='Mr. Corey Jefferson'>\n",
      "<re.Match object; span=(849, 860), match='Mr. Schafer'>\n",
      "<re.Match object; span=(881, 889), match='Mr Smith'>\n",
      "<re.Match object; span=(910, 918), match='Ms Davis'>\n",
      "<re.Match object; span=(939, 952), match='Mrs. Robinson'>\n",
      "<re.Match object; span=(973, 978), match='Mr. T'>\n"
     ]
    }
   ],
   "source": [
    "pattern = re.compile(r'(Mr|Ms|Mrs)\\.?(\\s[A-Z]\\w*)+') \n",
    "matches = pattern.finditer(text_to_search)\n",
    "\n",
    "for match in matches:\n",
    "    print(match)"
   ]
  },
  {
   "cell_type": "code",
   "execution_count": 26,
   "metadata": {},
   "outputs": [
    {
     "name": "stdout",
     "output_type": "stream",
     "text": [
      "<re.Match object; span=(13, 32), match='bkspoudel@gmail.com'>\n",
      "<re.Match object; span=(45, 73), match='corey.mshafer@university.com'>\n",
      "<re.Match object; span=(86, 115), match='corey-123-schafer@my-work.net'>\n"
     ]
    }
   ],
   "source": [
    "import re\n",
    "emails = '''\n",
    "            bkspoudel@gmail.com\n",
    "            corey.mshafer@university.com\n",
    "            corey-123-schafer@my-work.net\n",
    "'''\n",
    "pattern = re.compile(r'[a-zA-Z0-9.-]+@[a-zA-Z-]+\\.(com|net)') \n",
    "matches = pattern.finditer(emails)\n",
    "\n",
    "for match in matches:\n",
    "    print(match)"
   ]
  },
  {
   "cell_type": "code",
   "execution_count": 24,
   "metadata": {},
   "outputs": [
    {
     "name": "stdout",
     "output_type": "stream",
     "text": [
      "<re.Match object; span=(1, 23), match='https://www.google.com'>\n",
      "<re.Match object; span=(24, 42), match='http://coreyms.com'>\n",
      "<re.Match object; span=(43, 62), match='https://youtube.com'>\n",
      "<re.Match object; span=(63, 83), match='https://www.nasa.gov'>\n"
     ]
    }
   ],
   "source": [
    "import re \n",
    "urls = '''\n",
    "https://www.google.com\n",
    "http://coreyms.com\n",
    "https://youtube.com\n",
    "https://www.nasa.gov\n",
    "'''\n",
    "# pattern = re.compile(r'https?://[a-z]+[a-z.]+\\.(com|gov|net)') \n",
    "pattern = re.compile(r'https?://(www\\.)?(\\w+)(\\.\\w+)')\n",
    "matches = pattern.finditer(urls)\n",
    "\n",
    "for match in matches:\n",
    "    print(match)\n"
   ]
  },
  {
   "cell_type": "code",
   "execution_count": 23,
   "metadata": {},
   "outputs": [
    {
     "name": "stdout",
     "output_type": "stream",
     "text": [
      "https://www.google.com\n",
      "http://coreyms.com\n",
      "https://youtube.com\n",
      "https://www.nasa.gov\n"
     ]
    }
   ],
   "source": [
    "for match in matches:\n",
    "    print(match.group(0))"
   ]
  },
  {
   "cell_type": "code",
   "execution_count": 27,
   "metadata": {},
   "outputs": [
    {
     "name": "stdout",
     "output_type": "stream",
     "text": [
      "\n",
      "google.com\n",
      "coreyms.com\n",
      "youtube.com\n",
      "nasa.gov\n",
      "\n"
     ]
    }
   ],
   "source": [
    "import re \n",
    "urls = '''\n",
    "https://www.google.com\n",
    "http://coreyms.com\n",
    "https://youtube.com\n",
    "https://www.nasa.gov\n",
    "'''\n",
    "\n",
    "pattern = re.compile(r'https?://(www\\.)?(\\w+)(\\.\\w+)')\n",
    "\n",
    "subbed_urls = pattern.sub(r'\\2\\3', urls)\n",
    "\n",
    "print(subbed_urls)"
   ]
  },
  {
   "cell_type": "code",
   "execution_count": 30,
   "metadata": {},
   "outputs": [
    {
     "name": "stdout",
     "output_type": "stream",
     "text": [
      "<re.Match object; span=(0, 5), match='Start'>\n"
     ]
    }
   ],
   "source": [
    "import re \n",
    "sentence = 'Start a sentence and then bring it to an end'\n",
    "\n",
    "pattern = re.compile(r'Start')\n",
    "matches = pattern.match(sentence)\n",
    "\n",
    "\n",
    "print(matches)"
   ]
  },
  {
   "cell_type": "code",
   "execution_count": 31,
   "metadata": {},
   "outputs": [
    {
     "name": "stdout",
     "output_type": "stream",
     "text": [
      "None\n"
     ]
    }
   ],
   "source": [
    "import re \n",
    "sentence = 'Start a sentence and then bring it to an end'\n",
    "\n",
    "pattern = re.compile(r'then')\n",
    "matches = pattern.match(sentence)\n",
    "\n",
    "\n",
    "print(matches)"
   ]
  },
  {
   "cell_type": "code",
   "execution_count": 32,
   "metadata": {},
   "outputs": [
    {
     "name": "stdout",
     "output_type": "stream",
     "text": [
      "<re.Match object; span=(21, 25), match='then'>\n"
     ]
    }
   ],
   "source": [
    "import re \n",
    "sentence = 'Start a sentence and then bring it to an end'\n",
    "\n",
    "pattern = re.compile(r'then')\n",
    "matches = pattern.search(sentence)\n",
    "\n",
    "\n",
    "print(matches)"
   ]
  },
  {
   "cell_type": "code",
   "execution_count": 7,
   "metadata": {},
   "outputs": [
    {
     "name": "stdout",
     "output_type": "stream",
     "text": [
      "<re.Match object; span=(0, 5), match='Start'>\n"
     ]
    }
   ],
   "source": [
    "import re \n",
    "sentence = 'Start a sentence and then bring it start to an end'\n",
    "\n",
    "pattern = re.compile(r'start', re.IGNORECASE) # re.I  --- can be used instesd\n",
    "matches = pattern.search(sentence)\n",
    "\n",
    "\n",
    "print(matches)"
   ]
  },
  {
   "cell_type": "code",
   "execution_count": null,
   "metadata": {},
   "outputs": [],
   "source": []
  }
 ],
 "metadata": {
  "kernelspec": {
   "display_name": "Python 3",
   "language": "python",
   "name": "python3"
  },
  "language_info": {
   "codemirror_mode": {
    "name": "ipython",
    "version": 3
   },
   "file_extension": ".py",
   "mimetype": "text/x-python",
   "name": "python",
   "nbconvert_exporter": "python",
   "pygments_lexer": "ipython3",
   "version": "3.7.6"
  }
 },
 "nbformat": 4,
 "nbformat_minor": 4
}
