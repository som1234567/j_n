{
 "cells": [
  {
   "cell_type": "code",
   "execution_count": 6,
   "metadata": {},
   "outputs": [
    {
     "name": "stderr",
     "output_type": "stream",
     "text": [
      "...\n",
      "----------------------------------------------------------------------\n",
      "Ran 3 tests in 0.002s\n",
      "\n",
      "OK\n"
     ]
    }
   ],
   "source": [
    "import import_ipynb\n",
    "import unittest\n",
    "from stock import Stack\n",
    "import pytest\n",
    "\n",
    "class Test_Stock(unittest.TestCase):\n",
    "    \n",
    "    @pytest.fixture\n",
    "    def stack():\n",
    "        return Stack()\n",
    "    \n",
    "    def test_constructor(self):\n",
    "        s = Stack()\n",
    "        assert isinstance(s, Stack)\n",
    "        assert len(s)==0\n",
    "\n",
    "    def test_push(self): # fixture is not working here...\n",
    "        stack = Stack()\n",
    "        stack.push(3)\n",
    "        assert len(stack)==1\n",
    "\n",
    "    def test_pop(self):\n",
    "        stack = Stack()\n",
    "        stack.push(4)\n",
    "        stack.pop()\n",
    "        assert len(stack)==0\n",
    "       \n",
    "            \n",
    "        \n",
    "if __name__=='__main__':\n",
    "    unittest.main(argv=['first-arg-is-ignored'], exit=False)\n"
   ]
  },
  {
   "cell_type": "code",
   "execution_count": null,
   "metadata": {},
   "outputs": [],
   "source": []
  },
  {
   "cell_type": "code",
   "execution_count": null,
   "metadata": {},
   "outputs": [],
   "source": []
  }
 ],
 "metadata": {
  "kernelspec": {
   "display_name": "Python 3",
   "language": "python",
   "name": "python3"
  },
  "language_info": {
   "codemirror_mode": {
    "name": "ipython",
    "version": 3
   },
   "file_extension": ".py",
   "mimetype": "text/x-python",
   "name": "python",
   "nbconvert_exporter": "python",
   "pygments_lexer": "ipython3",
   "version": "3.7.6"
  }
 },
 "nbformat": 4,
 "nbformat_minor": 4
}
