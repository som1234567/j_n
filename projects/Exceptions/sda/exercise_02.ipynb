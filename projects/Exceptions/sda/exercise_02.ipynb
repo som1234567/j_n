{
 "cells": [
  {
   "cell_type": "code",
   "execution_count": 16,
   "metadata": {},
   "outputs": [
    {
     "name": "stdout",
     "output_type": "stream",
     "text": [
      "{<class 'OSError'>: 3, <class 'IndexError'>: 7, <class 'NameError'>: 10}\n"
     ]
    }
   ],
   "source": [
    "def random_exception(exceptions):\n",
    "    import random\n",
    "    raise random.choice(exceptions)\n",
    "\n",
    "\n",
    "exceptions = [OSError, IndexError, NameError] \n",
    "exception_count = {except_cnt : 0 for except_cnt in exceptions }\n",
    "\n",
    "\n",
    "for _ in range(20):\n",
    "    try:\n",
    "        random_exception(exceptions)\n",
    "    except OSError:\n",
    "        exception_count[OSError] += 1\n",
    "    except IndexError:\n",
    "        exception_count[IndexError] += 1\n",
    "    except NameError:\n",
    "        exception_count[NameError] += 1\n",
    "        \n",
    "print(exception_count)\n",
    "    "
   ]
  }
 ],
 "metadata": {
  "kernelspec": {
   "display_name": "Python 3",
   "language": "python",
   "name": "python3"
  },
  "language_info": {
   "codemirror_mode": {
    "name": "ipython",
    "version": 3
   },
   "file_extension": ".py",
   "mimetype": "text/x-python",
   "name": "python",
   "nbconvert_exporter": "python",
   "pygments_lexer": "ipython3",
   "version": "3.7.6"
  }
 },
 "nbformat": 4,
 "nbformat_minor": 4
}
