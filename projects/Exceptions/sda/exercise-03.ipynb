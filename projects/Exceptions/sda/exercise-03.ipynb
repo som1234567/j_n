{
 "cells": [
  {
   "cell_type": "code",
   "execution_count": 1,
   "metadata": {},
   "outputs": [
    {
     "data": {
      "text/plain": [
       "'\\n1. Define your own exceptions:\\n    1. `PasswordTooShort`\\n    2. `PasswordTooLong`\\n    3. `InvalidPassword`\\n2. Write a function `validate_password()`:\\n    1.  check whether user input collected via `input()` equals \\n        `secret_password` variable.\\n    2. If the input is too short (less than 3 characters) or too long\\n       (longer than 30 characters), raise appropriate exceptions\\n    3. If the password does not match, raise `InvalidPassword`\\n3. Handle all exceptions raised in `validate_password` by printing a \\n   nice message.\\n'"
      ]
     },
     "execution_count": 1,
     "metadata": {},
     "output_type": "execute_result"
    }
   ],
   "source": [
    "\"\"\"\n",
    "1. Define your own exceptions:\n",
    "    1. `PasswordTooShort`\n",
    "    2. `PasswordTooLong`\n",
    "    3. `InvalidPassword`\n",
    "2. Write a function `validate_password()`:\n",
    "    1.  check whether user input collected via `input()` equals \n",
    "        `secret_password` variable.\n",
    "    2. If the input is too short (less than 3 characters) or too long\n",
    "       (longer than 30 characters), raise appropriate exceptions\n",
    "    3. If the password does not match, raise `InvalidPassword`\n",
    "3. Handle all exceptions raised in `validate_password` by printing a \n",
    "   nice message.\n",
    "\"\"\"\n"
   ]
  },
  {
   "cell_type": "code",
   "execution_count": 9,
   "metadata": {},
   "outputs": [
    {
     "name": "stdout",
     "output_type": "stream",
     "text": [
      "Password: q\n",
      "Password too short!\n"
     ]
    }
   ],
   "source": [
    "secret_password = \"It's a secret!\"\n",
    "\n",
    "\n",
    "def validate_password():\n",
    "    user_pass = input(\"Password: \")\n",
    "    if len(user_pass) < 3:\n",
    "        raise PasswordTooShort()\n",
    "    elif len(user_pass) > 30:\n",
    "        raise PasswordTooLong()\n",
    "    if user_pass != secret_password:\n",
    "        raise InvalidPassword()\n",
    "    print(\"Bingo!\")\n",
    "\n",
    "\n",
    "\n",
    "\n",
    "\n",
    "if __name__ == \"__main__\":\n",
    "    try:\n",
    "        validate_password()\n",
    "    except PasswordTooShort:\n",
    "        print(\"Password too short!\")\n",
    "    except PasswordTooLong:\n",
    "        print(\"Password too long!\")\n",
    "    except InvalidPassword:\n",
    "        print(\"Invalid password!\")\n"
   ]
  },
  {
   "cell_type": "code",
   "execution_count": null,
   "metadata": {},
   "outputs": [],
   "source": []
  },
  {
   "cell_type": "code",
   "execution_count": null,
   "metadata": {},
   "outputs": [],
   "source": []
  }
 ],
 "metadata": {
  "kernelspec": {
   "display_name": "Python 3",
   "language": "python",
   "name": "python3"
  },
  "language_info": {
   "codemirror_mode": {
    "name": "ipython",
    "version": 3
   },
   "file_extension": ".py",
   "mimetype": "text/x-python",
   "name": "python",
   "nbconvert_exporter": "python",
   "pygments_lexer": "ipython3",
   "version": "3.7.6"
  }
 },
 "nbformat": 4,
 "nbformat_minor": 4
}
