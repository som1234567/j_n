{
 "cells": [
  {
   "cell_type": "code",
   "execution_count": 32,
   "metadata": {},
   "outputs": [
    {
     "name": "stdout",
     "output_type": "stream",
     "text": [
      "[Errno 2] No such file or directory: 'sudhan1'\n",
      "no matter it cathches exception or not .... this gets executed\n"
     ]
    }
   ],
   "source": [
    "try:\n",
    "    f = open('sudhan')\n",
    "    # var = bad_var               # planted some errer 'NameError'\n",
    "    # var_1 = 'bad_var' + 1       # other error cannot add string and integer\n",
    "    if f.name == 'sudhan':\n",
    "        raise Exception\n",
    "except FileNotFoundError as e:\n",
    "    print(e)\n",
    "except NameError as e:\n",
    "    print(e)\n",
    "except Exception as e:\n",
    "    print(f'some other error... {e}')\n",
    "\n",
    "else:                           # if try block executes without error, control goes to else part....\n",
    "    print(f.read())\n",
    "    f.close()\n",
    "    \n",
    "finally:\n",
    "    print('no matter it cathches exception or not .... this gets executed')"
   ]
  },
  {
   "cell_type": "code",
   "execution_count": null,
   "metadata": {},
   "outputs": [],
   "source": []
  }
 ],
 "metadata": {
  "kernelspec": {
   "display_name": "Python 3",
   "language": "python",
   "name": "python3"
  },
  "language_info": {
   "codemirror_mode": {
    "name": "ipython",
    "version": 3
   },
   "file_extension": ".py",
   "mimetype": "text/x-python",
   "name": "python",
   "nbconvert_exporter": "python",
   "pygments_lexer": "ipython3",
   "version": "3.7.6"
  }
 },
 "nbformat": 4,
 "nbformat_minor": 4
}
