{
 "cells": [
  {
   "cell_type": "code",
   "execution_count": 36,
   "metadata": {},
   "outputs": [],
   "source": [
    "class MyRange:\n",
    "    def __init__(self, start=None, stop = None, step=None):\n",
    "        self.start = start\n",
    "        self.stop = stop\n",
    "        self.step = step\n",
    "        if self.stop is None:\n",
    "            self.step = 1\n",
    "            self.stop = start\n",
    "            self.start = 0\n",
    "        if self.step is None:\n",
    "            self.step = 1\n",
    "        \n",
    "    def __iter__(self):\n",
    "        self.start -= self.step\n",
    "        return self\n",
    "    def __next__(self):\n",
    "        self.start += self.step\n",
    "        if self.step >= 0:\n",
    "            if self.start < self.stop:\n",
    "                return self.start\n",
    "            else:\n",
    "                raise StopIteration\n",
    "        else:\n",
    "            if self.start > self.stop:\n",
    "                return self.start\n",
    "            else:\n",
    "                raise StopIteration\n",
    "    \n",
    "for i in MyRange(-10):\n",
    "    print(i)\n",
    "    \n",
    "try:\n",
    "    assert list(MyRange(10))==list(range(10))\n",
    "    assert list(MyRange(10, 0, -1))==list(range(10, 0, -1))\n",
    "    assert list(MyRange(0, 10, 1))==list(range(0, 10, 1))\n",
    "    assert list(MyRange(10, 2, -2))==list(range(10, 2, -2))\n",
    "    assert list(MyRange(10, 20))==list(range(10, 20))\n",
    "except Exception:\n",
    "    print('something is wrong')"
   ]
  },
  {
   "cell_type": "code",
   "execution_count": null,
   "metadata": {},
   "outputs": [],
   "source": []
  }
 ],
 "metadata": {
  "kernelspec": {
   "display_name": "Python 3",
   "language": "python",
   "name": "python3"
  },
  "language_info": {
   "codemirror_mode": {
    "name": "ipython",
    "version": 3
   },
   "file_extension": ".py",
   "mimetype": "text/x-python",
   "name": "python",
   "nbconvert_exporter": "python",
   "pygments_lexer": "ipython3",
   "version": "3.7.6"
  }
 },
 "nbformat": 4,
 "nbformat_minor": 4
}
