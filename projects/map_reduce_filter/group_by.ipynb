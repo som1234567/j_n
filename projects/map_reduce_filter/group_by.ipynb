{
 "cells": [
  {
   "cell_type": "code",
   "execution_count": 8,
   "metadata": {},
   "outputs": [
    {
     "name": "stdout",
     "output_type": "stream",
     "text": [
      "NY\n",
      "{'name': 'John Doe', 'city': 'Gotham', 'state': 'NY'}\n",
      "{'name': 'Jane Doe', 'city': 'Kings Landing', 'state': 'NY'}\n",
      "\n",
      "CO\n",
      "{'name': 'Corey Schafer', 'city': 'Boulder', 'state': 'CO'}\n",
      "{'name': 'Al Einstein', 'city': 'Denver', 'state': 'CO'}\n",
      "\n",
      "WV\n",
      "{'name': 'John Henry', 'city': 'Hinton', 'state': 'WV'}\n",
      "{'name': 'Randy Moss', 'city': 'Rand', 'state': 'WV'}\n",
      "\n",
      "NC\n",
      "{'name': 'Nicole K', 'city': 'Asheville', 'state': 'NC'}\n",
      "{'name': 'Jim Doe', 'city': 'Charlotte', 'state': 'NC'}\n",
      "{'name': 'Jane Taylor', 'city': 'Faketown', 'state': 'NC'}\n",
      "\n"
     ]
    }
   ],
   "source": [
    "import itertools\n",
    "\n",
    "def get_state(person):\n",
    "    return person['state']\n",
    "\n",
    "people = [\n",
    "    {\n",
    "        'name': 'John Doe',\n",
    "        'city': 'Gotham',\n",
    "        'state': 'NY'\n",
    "    },\n",
    "    {\n",
    "        'name': 'Jane Doe',\n",
    "        'city': 'Kings Landing',\n",
    "        'state': 'NY'\n",
    "    },\n",
    "    {\n",
    "        'name': 'Corey Schafer',\n",
    "        'city': 'Boulder',\n",
    "        'state': 'CO'\n",
    "    },\n",
    "    {\n",
    "        'name': 'Al Einstein',\n",
    "        'city': 'Denver',\n",
    "        'state': 'CO'\n",
    "    },\n",
    "    {\n",
    "        'name': 'John Henry',\n",
    "        'city': 'Hinton',\n",
    "        'state': 'WV'\n",
    "    },\n",
    "    {\n",
    "        'name': 'Randy Moss',\n",
    "        'city': 'Rand',\n",
    "        'state': 'WV'\n",
    "    },\n",
    "    {\n",
    "        'name': 'Nicole K',\n",
    "        'city': 'Asheville',\n",
    "        'state': 'NC'\n",
    "    },\n",
    "    {\n",
    "        'name': 'Jim Doe',\n",
    "        'city': 'Charlotte',\n",
    "        'state': 'NC'\n",
    "    },\n",
    "    {\n",
    "        'name': 'Jane Taylor',\n",
    "        'city': 'Faketown',\n",
    "        'state': 'NC'\n",
    "    }\n",
    "]\n",
    "\n",
    "people_group = itertools.groupby(people, get_state)\n",
    "\n",
    "copy1, copy2 = itertools.tee(people_group)\n",
    "\n",
    "for key, group in people_group:\n",
    "    # print(key, len(list(group)))\n",
    "    print(key)\n",
    "    for item in group:\n",
    "        print(item)\n",
    "    print()"
   ]
  },
  {
   "cell_type": "markdown",
   "metadata": {},
   "source": [
    "# youtube link : https://www.youtube.com/watch?v=Qu3dThVy6KQ&t=1296s"
   ]
  },
  {
   "cell_type": "code",
   "execution_count": null,
   "metadata": {},
   "outputs": [],
   "source": []
  }
 ],
 "metadata": {
  "kernelspec": {
   "display_name": "Python 3",
   "language": "python",
   "name": "python3"
  },
  "language_info": {
   "codemirror_mode": {
    "name": "ipython",
    "version": 3
   },
   "file_extension": ".py",
   "mimetype": "text/x-python",
   "name": "python",
   "nbconvert_exporter": "python",
   "pygments_lexer": "ipython3",
   "version": "3.7.6"
  }
 },
 "nbformat": 4,
 "nbformat_minor": 4
}
