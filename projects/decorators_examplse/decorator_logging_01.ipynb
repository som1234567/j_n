{
 "cells": [
  {
   "cell_type": "code",
   "execution_count": 2,
   "metadata": {},
   "outputs": [
    {
     "name": "stdout",
     "output_type": "stream",
     "text": [
      "name is :name and the age is : 0\n"
     ]
    }
   ],
   "source": [
    "def decorator_logging(original_function):\n",
    "    import logging\n",
    "    logging.basicConfig(filename='sample.log', level=logging.INFO)\n",
    "    def wrapper(*args, **kwargs):\n",
    "        logging.info(f'args : {args} and kwargs : {kwargs}')\n",
    "        original_function(*args, **kwargs)\n",
    "        \n",
    "    return wrapper\n",
    "\n",
    "@decorator_logging\n",
    "def display_info(name, age):\n",
    "    print(f'name is :{name} and the age is : {age}')\n",
    "    \n",
    "display_info('name', 0)"
   ]
  },
  {
   "cell_type": "code",
   "execution_count": null,
   "metadata": {},
   "outputs": [],
   "source": []
  }
 ],
 "metadata": {
  "kernelspec": {
   "display_name": "Python 3",
   "language": "python",
   "name": "python3"
  },
  "language_info": {
   "codemirror_mode": {
    "name": "ipython",
    "version": 3
   },
   "file_extension": ".py",
   "mimetype": "text/x-python",
   "name": "python",
   "nbconvert_exporter": "python",
   "pygments_lexer": "ipython3",
   "version": "3.7.6"
  }
 },
 "nbformat": 4,
 "nbformat_minor": 4
}
