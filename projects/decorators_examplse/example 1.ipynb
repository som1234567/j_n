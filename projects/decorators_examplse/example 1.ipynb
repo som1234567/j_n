{
 "cells": [
  {
   "cell_type": "code",
   "execution_count": 2,
   "metadata": {},
   "outputs": [
    {
     "name": "stdout",
     "output_type": "stream",
     "text": [
      "Wrapper: Before function execution\n",
      "Hello, Jane, the virgin!\n",
      "Wrapper: After function execution greetings\n"
     ]
    }
   ],
   "source": [
    "import functools\n",
    "\n",
    "\n",
    "def example_decorator(func):\n",
    "    #@functools.wraps(func)\n",
    "    def wrapper(*args, **kwargs):\n",
    "        print(\"Wrapper: Before function execution\")\n",
    "        result = func(*args, **kwargs)\n",
    "        print(f\"Wrapper: After function execution {func.__name__}\")\n",
    "        return result\n",
    "        \n",
    "\n",
    "    return wrapper\n",
    "\n",
    "\n",
    "@example_decorator\n",
    "def greetings(name):\n",
    "    print(f\"Hello, {name}!\")\n",
    "\n",
    "\n",
    "\n",
    "if __name__ == \"__main__\":\n",
    "    #greetings = example_decorator(greetings)\n",
    "    greetings(\"Jane, the virgin\")\n"
   ]
  },
  {
   "cell_type": "code",
   "execution_count": null,
   "metadata": {},
   "outputs": [],
   "source": []
  }
 ],
 "metadata": {
  "kernelspec": {
   "display_name": "Python 3",
   "language": "python",
   "name": "python3"
  },
  "language_info": {
   "codemirror_mode": {
    "name": "ipython",
    "version": 3
   },
   "file_extension": ".py",
   "mimetype": "text/x-python",
   "name": "python",
   "nbconvert_exporter": "python",
   "pygments_lexer": "ipython3",
   "version": "3.7.6"
  }
 },
 "nbformat": 4,
 "nbformat_minor": 4
}
