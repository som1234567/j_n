{
 "cells": [
  {
   "cell_type": "code",
   "execution_count": 6,
   "metadata": {},
   "outputs": [
    {
     "name": "stdout",
     "output_type": "stream",
     "text": [
      "greetings\n"
     ]
    }
   ],
   "source": [
    "import functools\n",
    "def example_decorator(func):\n",
    "    @functools.wraps(func)\n",
    "    def wrapper(*args,**kwargs):\n",
    "        print(\"Wrapper: Before function execution\")\n",
    "        result = func(*args, **kwargs)\n",
    "        print(\"Wrapper: After function execution\")\n",
    "        return result\n",
    "    return wrapper\n",
    "\n",
    "#@example_decorator\n",
    "def greetings(name):\n",
    "    print(f\"Hello, {name}!\")\n",
    "    \n",
    "if __name__ == \"__main__\":\n",
    "    greetings = example_decorator(greetings)\n",
    "    print(greetings.__name__)\n",
    "    # greetings(\"Jane\")"
   ]
  },
  {
   "cell_type": "code",
   "execution_count": null,
   "metadata": {},
   "outputs": [],
   "source": []
  },
  {
   "cell_type": "code",
   "execution_count": null,
   "metadata": {},
   "outputs": [],
   "source": []
  }
 ],
 "metadata": {
  "kernelspec": {
   "display_name": "Python 3",
   "language": "python",
   "name": "python3"
  },
  "language_info": {
   "codemirror_mode": {
    "name": "ipython",
    "version": 3
   },
   "file_extension": ".py",
   "mimetype": "text/x-python",
   "name": "python",
   "nbconvert_exporter": "python",
   "pygments_lexer": "ipython3",
   "version": "3.7.6"
  }
 },
 "nbformat": 4,
 "nbformat_minor": 4
}
