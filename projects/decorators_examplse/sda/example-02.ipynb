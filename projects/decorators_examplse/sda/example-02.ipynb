{
 "cells": [
  {
   "cell_type": "code",
   "execution_count": 1,
   "metadata": {},
   "outputs": [
    {
     "name": "stdout",
     "output_type": "stream",
     "text": [
      "<h1>This Is A Section Title!</h1>\n"
     ]
    }
   ],
   "source": [
    "class HTMLHeader:\n",
    "    def __init__(self, func):\n",
    "        self.func = func\n",
    "\n",
    "    def __call__(self, *args, **kwargs):\n",
    "        result = self.func(*args, **kwargs)\n",
    "        return f\"<h1>{result}</h1>\"\n",
    "\n",
    "\n",
    "@HTMLHeader\n",
    "def prepare_title(title_string):\n",
    "    return title_string.title()\n",
    "\n",
    "\n",
    "if __name__ == \"__main__\":\n",
    "    print(prepare_title(\"this is a section title!\"))\n"
   ]
  },
  {
   "cell_type": "code",
   "execution_count": null,
   "metadata": {},
   "outputs": [],
   "source": []
  }
 ],
 "metadata": {
  "kernelspec": {
   "display_name": "Python 3",
   "language": "python",
   "name": "python3"
  },
  "language_info": {
   "codemirror_mode": {
    "name": "ipython",
    "version": 3
   },
   "file_extension": ".py",
   "mimetype": "text/x-python",
   "name": "python",
   "nbconvert_exporter": "python",
   "pygments_lexer": "ipython3",
   "version": "3.7.6"
  }
 },
 "nbformat": 4,
 "nbformat_minor": 4
}
