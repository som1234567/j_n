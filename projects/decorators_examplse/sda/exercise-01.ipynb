{
 "cells": [
  {
   "cell_type": "code",
   "execution_count": 3,
   "metadata": {},
   "outputs": [
    {
     "name": "stdout",
     "output_type": "stream",
     "text": [
      "i am in lower case\n",
      "length reduced...\n"
     ]
    },
    {
     "data": {
      "text/plain": [
       "'z{tqj$fopoeb}ja^!ka,\"ra~t2fol6'"
      ]
     },
     "execution_count": 3,
     "metadata": {},
     "output_type": "execute_result"
    }
   ],
   "source": [
    "import random\n",
    "import string\n",
    "\n",
    "alphabet = string.ascii_letters + string.punctuation + string.digits\n",
    "\n",
    "def to_lower_case(func):\n",
    "    def wrapper(*args, **kwargs):\n",
    "        print('i am in lower case')\n",
    "        result = func(*args, **kwargs).lower()\n",
    "        return result\n",
    "    return wrapper\n",
    "\n",
    "def shorten(func):\n",
    "    def wrapper(*args, **kwargs):\n",
    "        result = func(*args, **kwargs)\n",
    "        if len(result)>40:\n",
    "            result = result[:30]\n",
    "            print('length reduced...')\n",
    "        return result\n",
    "    return wrapper\n",
    "    \n",
    "\n",
    "@to_lower_case\n",
    "@shorten\n",
    "def random_string():\n",
    "    length = random.randint(30, 60)\n",
    "    population = []\n",
    "    for _ in range(length):\n",
    "        index = random.randint(0, len(alphabet) - 1)\n",
    "        population.append(alphabet[index])\n",
    "    return \"\".join(population)\n",
    "\n",
    "\n",
    "random_string()"
   ]
  },
  {
   "cell_type": "code",
   "execution_count": null,
   "metadata": {},
   "outputs": [],
   "source": []
  }
 ],
 "metadata": {
  "kernelspec": {
   "display_name": "Python 3",
   "language": "python",
   "name": "python3"
  },
  "language_info": {
   "codemirror_mode": {
    "name": "ipython",
    "version": 3
   },
   "file_extension": ".py",
   "mimetype": "text/x-python",
   "name": "python",
   "nbconvert_exporter": "python",
   "pygments_lexer": "ipython3",
   "version": "3.7.6"
  }
 },
 "nbformat": 4,
 "nbformat_minor": 4
}
