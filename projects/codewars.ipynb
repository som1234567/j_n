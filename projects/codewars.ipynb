{
 "cells": [
  {
   "cell_type": "code",
   "execution_count": 4,
   "metadata": {},
   "outputs": [
    {
     "name": "stdout",
     "output_type": "stream",
     "text": [
      "1413\n"
     ]
    }
   ],
   "source": [
    "def next_greater(n, s, k):\n",
    "    import functools\n",
    "    flag = False\n",
    "    n.sort(reverse = True)\n",
    "    n = functools.reduce(lambda x , y : str(x) + str(y), n)\n",
    "    n = int(n) + 1\n",
    "    for i in range(k, n):\n",
    "        if i > k:\n",
    "            for j in range(len(str(i))):\n",
    "                if str(i).count(str(i)[j]) != s.count(str(i)[j]):\n",
    "                    break\n",
    "            else:\n",
    "                return i \n",
    "            \n",
    "    \n",
    "\n",
    "n = 1342\n",
    "str_list= list(str(n))\n",
    "int_list = []\n",
    "for i in range(len(str(n))):\n",
    "    # str_list.append((str(n)[i]))\n",
    "    int_list.append(int(str(n)[i]))\n",
    "\n",
    "result = next_greater(int_list, str_list, n)\n",
    "print(result)\n"
   ]
  },
  {
   "cell_type": "markdown",
   "metadata": {},
   "source": [
    "# number of fractions ::"
   ]
  },
  {
   "cell_type": "code",
   "execution_count": 6,
   "metadata": {},
   "outputs": [
    {
     "name": "stdout",
     "output_type": "stream",
     "text": [
      "[1, 11]\n",
      "[1, 2, 3, 4, 5, 6, 7, 8, 9, 10]\n",
      "10\n"
     ]
    }
   ],
   "source": [
    "def num_factors(n, llist):\n",
    "    count = 0\n",
    "    a = []\n",
    "    for i in range(1, n):\n",
    "        if n%i!=0 or i == 1:\n",
    "            a.append(i)\n",
    "    for i in a:\n",
    "        if (set(factors(i)).intersection(set(llist))=={1}):\n",
    "            count += 1\n",
    "    print(llist)\n",
    "    print(a)\n",
    "    return count\n",
    "\n",
    "def factors(n):\n",
    "    llist = []\n",
    "    for i in range(1, n+1):\n",
    "        if n % i == 0:\n",
    "            llist.append(i)\n",
    "    return llist\n",
    "def proper_fraction(n):\n",
    "    count = num_factors(n, factors(n))\n",
    "    return count\n",
    "\n",
    "print(proper_fraction(11))\n",
    "            "
   ]
  },
  {
   "cell_type": "code",
   "execution_count": 11,
   "metadata": {},
   "outputs": [
    {
     "data": {
      "text/plain": [
       "48"
      ]
     },
     "execution_count": 11,
     "metadata": {},
     "output_type": "execute_result"
    }
   ],
   "source": [
    "s = ['1', '4','0', '3', '9']\n",
    "max(s)\n",
    "ord(s[2])"
   ]
  },
  {
   "cell_type": "code",
   "execution_count": null,
   "metadata": {},
   "outputs": [],
   "source": []
  }
 ],
 "metadata": {
  "kernelspec": {
   "display_name": "Python 3",
   "language": "python",
   "name": "python3"
  },
  "language_info": {
   "codemirror_mode": {
    "name": "ipython",
    "version": 3
   },
   "file_extension": ".py",
   "mimetype": "text/x-python",
   "name": "python",
   "nbconvert_exporter": "python",
   "pygments_lexer": "ipython3",
   "version": "3.7.6"
  }
 },
 "nbformat": 4,
 "nbformat_minor": 4
}
