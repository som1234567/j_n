{
 "cells": [
  {
   "cell_type": "code",
   "execution_count": 10,
   "metadata": {},
   "outputs": [
    {
     "name": "stdout",
     "output_type": "stream",
     "text": [
      "Sleeping 1 second...\n",
      "Sleeping 1 second...\n",
      "Done Sleeping...\n",
      "Done Sleeping...\n",
      "finished in 1.01 seconds\n"
     ]
    }
   ],
   "source": [
    "import time\n",
    "import threading\n",
    "\n",
    "start = time.perf_counter()\n",
    "\n",
    "def do_something():\n",
    "    print(f'Sleeping 1 second...')\n",
    "    time.sleep(1)\n",
    "    print('Done Sleeping...')\n",
    "    \n",
    "t1 = threading.Thread(target=do_something)\n",
    "t2 = threading.Thread(target=do_something)\n",
    "\n",
    "t1.start()\n",
    "t2.start()\n",
    "\n",
    "t1.join()\n",
    "t2.join()\n",
    "\n",
    "finish = time.perf_counter()\n",
    "print(f'finished in {round(finish - start, 2)} seconds')"
   ]
  },
  {
   "cell_type": "code",
   "execution_count": 19,
   "metadata": {},
   "outputs": [
    {
     "name": "stdout",
     "output_type": "stream",
     "text": [
      "Sleeping 1 second...\n",
      "Sleeping 1 second...\n",
      "Done Sleeping...\n",
      "Done Sleeping...\n",
      "finished in 1.0 seconds\n"
     ]
    }
   ],
   "source": [
    "import time\n",
    "import concurrent.futures\n",
    "\n",
    "start = time.perf_counter()\n",
    "\n",
    "def do_something(sss):\n",
    "    print(f'Sleeping {sss} second...')\n",
    "    time.sleep(1)\n",
    "    print('Done Sleeping...')\n",
    "    \n",
    "with concurrent.futures.ThreadPoolExecutor() as executor:\n",
    "    f1 = executor.submit(do_something, 1)\n",
    "    f2 = executor.submit(do_something, 1)\n",
    "    \n",
    "    f1.result()\n",
    "    f2.result()\n",
    "\n",
    "\n",
    "finish = time.perf_counter()\n",
    "print(f'finished in {round(finish - start, 2)} seconds')"
   ]
  },
  {
   "cell_type": "code",
   "execution_count": 30,
   "metadata": {},
   "outputs": [
    {
     "name": "stdout",
     "output_type": "stream",
     "text": [
      "Sleeping 5 second...\n",
      "Sleeping 4 second...Sleeping 3 second...\n",
      "\n",
      "Sleeping 2 second...\n",
      "Sleeping 1 second...\n",
      "Done Sleeping...\n",
      "Done Sleeping...\n",
      "Done Sleeping...\n",
      "Done Sleeping...\n",
      "Done Sleeping...\n",
      "finished in 5.01 seconds\n"
     ]
    }
   ],
   "source": [
    "import time\n",
    "import concurrent.futures\n",
    "\n",
    "start = time.perf_counter()\n",
    "\n",
    "def do_something(sss):\n",
    "    print(f'Sleeping {sss} second...')\n",
    "    time.sleep(sss)\n",
    "    return'Done Sleeping...'\n",
    "    \n",
    "arr = [5, 4, 3, 2, 1]\n",
    "with concurrent.futures.ThreadPoolExecutor() as executor:\n",
    "    results = executor.map(do_something, arr)\n",
    "    \n",
    "    for result in results:\n",
    "         print(result)\n",
    "\n",
    "finish = time.perf_counter()\n",
    "print(f'finished in {round(finish - start, 2)} seconds')"
   ]
  },
  {
   "cell_type": "code",
   "execution_count": null,
   "metadata": {},
   "outputs": [],
   "source": []
  },
  {
   "cell_type": "code",
   "execution_count": 2,
   "metadata": {},
   "outputs": [
    {
     "name": "stdout",
     "output_type": "stream",
     "text": [
      "photo-1530224264768-7ff8c1789d79.jpg was downloaded...\n",
      "photo-1564135624576-c5c88640f235.jpg was downloaded...\n",
      "photo-1507143550189-fed454f93097.jpg was downloaded...\n",
      "photo-1516117172878-fd2c41f4a759.jpg was downloaded...\n",
      "photo-1516117172878-fd2c41f4a759.jpg  done sucessfully\n",
      "photo-1530122037265-a5f1f91d3b99.jpg was downloaded...\n",
      "photo-1516972810927-80185027ca84.jpg was downloaded...\n",
      "photo-1504198453319-5ce911bafcde.jpg was downloaded...\n",
      "photo-1522364723953-452d3431c267.jpg was downloaded...\n",
      "photo-1493976040374-85c8e12f0c0e.jpg was downloaded...\n",
      "photo-1549692520-acc6669e2f0c.jpg was downloaded...\n",
      "photo-1550439062-609e1531270e.jpg was downloaded...\n",
      "photo-1541698444083-023c97d3f4b6.jpg was downloaded...\n",
      "photo-1513938709626-033611b8cc03.jpg was downloaded...\n",
      "photo-1524429656589-6633a470097c.jpg was downloaded...\n",
      "photo-1532009324734-20a7a5813719.jpg was downloaded...\n",
      "photo-1532009324734-20a7a5813719.jpg  done sucessfully\n",
      "photo-1524429656589-6633a470097c.jpg  done sucessfully\n",
      "photo-1530224264768-7ff8c1789d79.jpg  done sucessfully\n",
      "photo-1564135624576-c5c88640f235.jpg  done sucessfully\n",
      "photo-1541698444083-023c97d3f4b6.jpg  done sucessfully\n",
      "photo-1522364723953-452d3431c267.jpg  done sucessfully\n",
      "photo-1513938709626-033611b8cc03.jpg  done sucessfully\n",
      "photo-1507143550189-fed454f93097.jpg  done sucessfully\n",
      "photo-1493976040374-85c8e12f0c0e.jpg  done sucessfully\n",
      "photo-1504198453319-5ce911bafcde.jpg  done sucessfully\n",
      "photo-1530122037265-a5f1f91d3b99.jpg  done sucessfully\n",
      "photo-1516972810927-80185027ca84.jpg  done sucessfully\n",
      "photo-1550439062-609e1531270e.jpg  done sucessfully\n",
      "photo-1549692520-acc6669e2f0c.jpg  done sucessfully\n",
      "finished in 5.94 seconds\n"
     ]
    }
   ],
   "source": [
    "import requests\n",
    "import time\n",
    "import concurrent.futures\n",
    "\n",
    "img_urls = [\n",
    "    'https://images.unsplash.com/photo-1516117172878-fd2c41f4a759',\n",
    "    'https://images.unsplash.com/photo-1532009324734-20a7a5813719',\n",
    "    'https://images.unsplash.com/photo-1524429656589-6633a470097c',\n",
    "    'https://images.unsplash.com/photo-1530224264768-7ff8c1789d79',\n",
    "    'https://images.unsplash.com/photo-1564135624576-c5c88640f235',\n",
    "    'https://images.unsplash.com/photo-1541698444083-023c97d3f4b6',\n",
    "    'https://images.unsplash.com/photo-1522364723953-452d3431c267',\n",
    "    'https://images.unsplash.com/photo-1513938709626-033611b8cc03',\n",
    "    'https://images.unsplash.com/photo-1507143550189-fed454f93097',\n",
    "    'https://images.unsplash.com/photo-1493976040374-85c8e12f0c0e',\n",
    "    'https://images.unsplash.com/photo-1504198453319-5ce911bafcde',\n",
    "    'https://images.unsplash.com/photo-1530122037265-a5f1f91d3b99',\n",
    "    'https://images.unsplash.com/photo-1516972810927-80185027ca84',\n",
    "    'https://images.unsplash.com/photo-1550439062-609e1531270e',\n",
    "    'https://images.unsplash.com/photo-1549692520-acc6669e2f0c'\n",
    "]\n",
    "\n",
    "\n",
    "\n",
    "def download_image(img_url):\n",
    "    img_bytes = requests.get(img_url).content\n",
    "    img_name = img_url.split('/')[3]\n",
    "    img_name = f'{img_name}.jpg'\n",
    "    with open(img_name, 'wb') as img_file:\n",
    "        img_file.write(img_bytes)\n",
    "        print(f'{img_name} was downloaded...')\n",
    "    return img_name + '  done sucessfully'\n",
    "        \n",
    "\n",
    "t1 = time.perf_counter()\n",
    "with concurrent.futures.ThreadPoolExecutor() as executor:\n",
    "    results = executor.map(download_image, img_urls)\n",
    "    \n",
    "    for result in results:\n",
    "        print(result)\n",
    "    \n",
    "\n",
    "    \n",
    "        \n",
    "t2 = time.perf_counter()\n",
    "print(f'finished in {round(t2 - t1, 2)} seconds')"
   ]
  },
  {
   "cell_type": "code",
   "execution_count": null,
   "metadata": {},
   "outputs": [],
   "source": []
  },
  {
   "cell_type": "code",
   "execution_count": null,
   "metadata": {},
   "outputs": [],
   "source": []
  }
 ],
 "metadata": {
  "kernelspec": {
   "display_name": "Python 3",
   "language": "python",
   "name": "python3"
  },
  "language_info": {
   "codemirror_mode": {
    "name": "ipython",
    "version": 3
   },
   "file_extension": ".py",
   "mimetype": "text/x-python",
   "name": "python",
   "nbconvert_exporter": "python",
   "pygments_lexer": "ipython3",
   "version": "3.7.6"
  }
 },
 "nbformat": 4,
 "nbformat_minor": 4
}
