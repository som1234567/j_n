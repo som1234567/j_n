{
 "cells": [
  {
   "cell_type": "code",
   "execution_count": 1,
   "metadata": {},
   "outputs": [
    {
     "name": "stdout",
     "output_type": "stream",
     "text": [
      "calculate square of numbers\n",
      "calculate cube of numbers\n",
      "square:  4\n",
      "cube:  8\n",
      "square:  9\n",
      "cube:  27\n",
      "square:  16\n",
      "cube:  64\n",
      "square:  25\n",
      "cube:  125\n",
      "done in :  0.8137252330780029\n",
      "hah... i am done with all my works now ....\n"
     ]
    }
   ],
   "source": [
    "import time\n",
    "import threading\n",
    "\n",
    "def calc_square(numbers):\n",
    "    print(\"calculate square of numbers\")\n",
    "    for n in numbers:\n",
    "        time.sleep(.2)\n",
    "        print(\"square: \", n*n)\n",
    "        \n",
    "        \n",
    "def calc_cube(numbers):\n",
    "    print(\"calculate cube of numbers\")\n",
    "    for n in numbers:\n",
    "        time.sleep(.2)\n",
    "        print(\"cube: \", n*n*n)\n",
    "        \n",
    "arr = [2, 3, 4, 5]\n",
    "\n",
    "t = time.time()\n",
    "\n",
    "t1 = threading.Thread(target=calc_square, args=[arr]) # args should be iterable \n",
    "t2 = threading.Thread(target=calc_cube, args=(arr,))  # tuple\n",
    "\n",
    "t1.start()\n",
    "t2.start()\n",
    "\n",
    "t1.join()\n",
    "t2.join()\n",
    "\n",
    "print(\"done in : \", time.time()-t)\n",
    "print(\"hah... i am done with all my works now ....\")\n"
   ]
  },
  {
   "cell_type": "code",
   "execution_count": null,
   "metadata": {},
   "outputs": [],
   "source": []
  }
 ],
 "metadata": {
  "kernelspec": {
   "display_name": "Python 3",
   "language": "python",
   "name": "python3"
  },
  "language_info": {
   "codemirror_mode": {
    "name": "ipython",
    "version": 3
   },
   "file_extension": ".py",
   "mimetype": "text/x-python",
   "name": "python",
   "nbconvert_exporter": "python",
   "pygments_lexer": "ipython3",
   "version": "3.7.6"
  }
 },
 "nbformat": 4,
 "nbformat_minor": 4
}
