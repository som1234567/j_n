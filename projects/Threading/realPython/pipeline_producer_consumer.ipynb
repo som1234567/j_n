{
 "cells": [
  {
   "cell_type": "code",
   "execution_count": 2,
   "metadata": {},
   "outputs": [
    {
     "name": "stdout",
     "output_type": "stream",
     "text": [
      "producing message of 79\n",
      "producing message of 9\n",
      "CONSUMING MESSAGE OF ---- 79\n",
      "producing message of 59\n",
      "CONSUMING MESSAGE OF ---- 9\n",
      "producing message of 75\n",
      "CONSUMING MESSAGE OF ---- 59\n",
      "producing message of 21\n",
      "CONSUMING MESSAGE OF ---- 75\n",
      "producing message of 47\n",
      "CONSUMING MESSAGE OF ---- 21\n",
      "producing message of 81\n",
      "CONSUMING MESSAGE OF ---- 47\n",
      "producing message of 59\n",
      "CONSUMING MESSAGE OF ---- 81\n",
      "producing message of 85\n",
      "CONSUMING MESSAGE OF ---- 59\n",
      "producing message of 90\n",
      "CONSUMING MESSAGE OF ---- 85\n",
      "producing message of THE END\n",
      "CONSUMING MESSAGE OF ---- 90\n",
      "CONSUMING MESSAGE OF ---- THE END\n",
      "producer: [79, 9, 59, 75, 21, 47, 81, 59, 85, 90, 'THE END']\n",
      "producer: [79, 9, 59, 75, 21, 47, 81, 59, 85, 90, 'THE END']\n"
     ]
    }
   ],
   "source": [
    "import concurrent.futures\n",
    "import threading\n",
    "import time\n",
    "import random\n",
    "\n",
    "FINISH = \"THE END\"\n",
    "\n",
    "class Pipeline:\n",
    "    def __init__(self, capacity):\n",
    "        self.capacity = capacity\n",
    "        self.message = None\n",
    "        self.producer_lock = threading.Lock()\n",
    "        self.consumer_lock = threading.Lock()\n",
    "        self.consumer_lock.acquire()\n",
    "        \n",
    "    def set_message(self, message):\n",
    "        print(f\"producing message of {message}\")\n",
    "        producer_pipeline.append(message)\n",
    "        self.producer_lock.acquire()\n",
    "        self.message = message\n",
    "        self.consumer_lock.release()\n",
    "        \n",
    "    def get_message(self):\n",
    "        print(f\"CONSUMING MESSAGE OF ---- {self.message}\")\n",
    "        self.consumer_lock.acquire()\n",
    "        message = self.message\n",
    "        self.producer_lock.release()\n",
    "        consumer_pipeline.append(message)\n",
    "        return message\n",
    "    \n",
    "def producer(pipeline):\n",
    "    for _ in range(pipeline.capacity):\n",
    "        message = random.randint(1, 100)\n",
    "        pipeline.set_message(message)\n",
    "    pipeline.set_message(FINISH)\n",
    "    \n",
    "def consumer(pipeline):\n",
    "    message = None\n",
    "    while message is not FINISH:\n",
    "        message = pipeline.get_message()\n",
    "        # if message is not FINISH:\n",
    "        time.sleep(random.random())\n",
    "            \n",
    "producer_pipeline = []\n",
    "consumer_pipeline = []\n",
    "\n",
    "if __name__=='__main__':\n",
    "    pipeline = Pipeline(10)\n",
    "    with concurrent.futures.ThreadPoolExecutor() as ex:\n",
    "        ex.submit(producer, pipeline)\n",
    "        ex.submit(consumer, pipeline)\n",
    "    print(f\"producer: {producer_pipeline}\")\n",
    "    print(f\"producer: {producer_pipeline}\")"
   ]
  },
  {
   "cell_type": "code",
   "execution_count": null,
   "metadata": {},
   "outputs": [],
   "source": []
  }
 ],
 "metadata": {
  "kernelspec": {
   "display_name": "Python 3",
   "language": "python",
   "name": "python3"
  },
  "language_info": {
   "codemirror_mode": {
    "name": "ipython",
    "version": 3
   },
   "file_extension": ".py",
   "mimetype": "text/x-python",
   "name": "python",
   "nbconvert_exporter": "python",
   "pygments_lexer": "ipython3",
   "version": "3.7.6"
  }
 },
 "nbformat": 4,
 "nbformat_minor": 4
}
