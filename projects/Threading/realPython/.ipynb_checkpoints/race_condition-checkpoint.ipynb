{
 "cells": [
  {
   "cell_type": "code",
   "execution_count": 10,
   "metadata": {},
   "outputs": [
    {
     "name": "stdout",
     "output_type": "stream",
     "text": [
      "starting balance is : 10\n",
      "operation deposit 15\n",
      "operation withdraw -15\n",
      "operation deposit finishing\n",
      "operation withdraw finishing\n",
      "Ending balance is : -5\n"
     ]
    }
   ],
   "source": [
    "import concurrent.futures\n",
    "import time\n",
    "\n",
    "class Account:\n",
    "    def __init__(self):\n",
    "        self.balance = 10 # shared data ... maybe from database\n",
    "        \n",
    "    def update(self, transaction, balance):\n",
    "        print(f\"operation {transaction} {balance}\")\n",
    "        local_copy = self.balance\n",
    "        local_copy += balance\n",
    "        time.sleep(0.1)\n",
    "        self.balance = local_copy\n",
    "        print(f\"operation {transaction} finishing\")\n",
    "        \n",
    "if __name__=='__main__':\n",
    "    account = Account()\n",
    "    print(f\"starting balance is : {account.balance}\")\n",
    "    with concurrent.futures.ThreadPoolExecutor(max_workers=2) as executor:\n",
    "        for transaction, amount in [('deposit', 15), ('withdraw', -15)]:\n",
    "            executor.submit(account.update, transaction, amount)\n",
    "    print(f\"Ending balance is : {account.balance}\")"
   ]
  },
  {
   "cell_type": "markdown",
   "metadata": {},
   "source": [
    "# same program with lock"
   ]
  },
  {
   "cell_type": "code",
   "execution_count": 8,
   "metadata": {},
   "outputs": [
    {
     "name": "stdout",
     "output_type": "stream",
     "text": [
      "starting balance is : 10\n",
      "operation deposit 5\n",
      "operation withdraw -5\n",
      "Ending balance is : 10\n"
     ]
    }
   ],
   "source": [
    "import concurrent.futures\n",
    "import time\n",
    "import threading\n",
    "\n",
    "class Account:\n",
    "    def __init__(self):\n",
    "        self.balance = 10 # shared data ... maybe from database\n",
    "        \n",
    "    def update(self, transaction, balance):\n",
    "        lok = threading.Lock()\n",
    "        print(f\"operation {transaction} {balance}\")\n",
    "        with self.lok:\n",
    "            local_copy = self.balance\n",
    "            local_copy += balance\n",
    "            time.sleep(0.1)\n",
    "            self.balance = local_copy\n",
    "        print(f\"operation {transaction} finishing\")\n",
    "        \n",
    "if __name__=='__main__':\n",
    "    account = Account()\n",
    "    print(f\"starting balance is : {account.balance}\")\n",
    "    with concurrent.futures.ThreadPoolExecutor(max_workers=2) as executor:\n",
    "        for transaction, amount in [('deposit', 5), ('withdraw', -5)]:\n",
    "            executor.submit(account.update, transaction, amount)\n",
    "    print(f\"Ending balance is : {account.balance}\")"
   ]
  },
  {
   "cell_type": "code",
   "execution_count": null,
   "metadata": {},
   "outputs": [],
   "source": []
  }
 ],
 "metadata": {
  "kernelspec": {
   "display_name": "Python 3",
   "language": "python",
   "name": "python3"
  },
  "language_info": {
   "codemirror_mode": {
    "name": "ipython",
    "version": 3
   },
   "file_extension": ".py",
   "mimetype": "text/x-python",
   "name": "python",
   "nbconvert_exporter": "python",
   "pygments_lexer": "ipython3",
   "version": "3.7.6"
  }
 },
 "nbformat": 4,
 "nbformat_minor": 4
}
