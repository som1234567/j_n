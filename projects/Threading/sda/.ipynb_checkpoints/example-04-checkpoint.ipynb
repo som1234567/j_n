{
 "cells": [
  {
   "cell_type": "code",
   "execution_count": 1,
   "metadata": {},
   "outputs": [
    {
     "name": "stderr",
     "output_type": "stream",
     "text": [
      "2020-07-10 20:50:06,575: Processing Red's fee. Current total: 0.0\n",
      "2020-07-10 20:50:06,578: Processing Blue's fee. Current total: 0.0\n",
      "2020-07-10 20:50:06,579: Processing Green's fee. Current total: 0.0\n",
      "2020-07-10 20:50:06,680: Done processing Red's fee. New total: 10.0\n",
      "2020-07-10 20:50:06,683: Done processing Blue's fee. New total: 10.0\n",
      "2020-07-10 20:50:06,683: Done processing Green's fee. New total: 10.0\n"
     ]
    },
    {
     "name": "stdout",
     "output_type": "stream",
     "text": [
      "It took 0.1s to process all the cars.\n",
      "Total: 10.0\n"
     ]
    }
   ],
   "source": [
    "import logging\n",
    "import time\n",
    "import concurrent.futures\n",
    "\n",
    "l = logging.getLogger(\"toll_booth\")\n",
    "h = logging.StreamHandler()\n",
    "f = logging.Formatter(\"%(asctime)s: %(message)s\")\n",
    "h.setFormatter(f)\n",
    "l.addHandler(h)\n",
    "l.setLevel(logging.INFO)\n",
    "\n",
    "\n",
    "class TollBooth:\n",
    "    def __init__(self):\n",
    "        self.register = 0.0\n",
    "\n",
    "    def process_fee(self, car, fee):\n",
    "        l.info(f\"Processing {car}'s fee. Current total: {self.register}\")\n",
    "        new_total = self.register + fee  # Toll booth calculates a new total\n",
    "        time.sleep(0.1)  # processing takes 0.1 seconds\n",
    "        self.register = new_total  # New total is saved after 0.1 seconds\n",
    "        l.info(f\"Done processing {car}'s fee. New total: {self.register}\")\n",
    "\n",
    "\n",
    "if __name__ == \"__main__\":\n",
    "    cars = [\"Red\", \"Blue\", \"Green\"]\n",
    "    booth = TollBooth()\n",
    "\n",
    "    start_time = time.time()\n",
    "    with concurrent.futures.ThreadPoolExecutor(max_workers=3) as executor:\n",
    "        for c in cars:\n",
    "            executor.submit(booth.process_fee, c, 10.0)\n",
    "    delta_time = time.time() - start_time\n",
    "    print(f\"It took {delta_time:.1f}s to process all the cars.\")\n",
    "    print(f\"Total: {booth.register}\")\n"
   ]
  },
  {
   "cell_type": "code",
   "execution_count": null,
   "metadata": {},
   "outputs": [],
   "source": []
  }
 ],
 "metadata": {
  "kernelspec": {
   "display_name": "Python 3",
   "language": "python",
   "name": "python3"
  },
  "language_info": {
   "codemirror_mode": {
    "name": "ipython",
    "version": 3
   },
   "file_extension": ".py",
   "mimetype": "text/x-python",
   "name": "python",
   "nbconvert_exporter": "python",
   "pygments_lexer": "ipython3",
   "version": "3.7.6"
  }
 },
 "nbformat": 4,
 "nbformat_minor": 4
}
