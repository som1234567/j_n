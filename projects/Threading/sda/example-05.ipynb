{
 "cells": [
  {
   "cell_type": "code",
   "execution_count": 1,
   "metadata": {},
   "outputs": [
    {
     "name": "stderr",
     "output_type": "stream",
     "text": [
      "2020-07-10 20:51:55,389: Processing Red's fee. Current total: 0.0\n",
      "2020-07-10 20:51:55,391: Processing Blue's fee. Current total: 0.0\n",
      "2020-07-10 20:51:55,392: Processing Green's fee. Current total: 0.0\n",
      "2020-07-10 20:51:56,502: Done processing Red's fee. New total: 30.0\n",
      "2020-07-10 20:51:56,602: Done processing Blue's fee. New total: 30.0\n",
      "2020-07-10 20:51:56,702: Done processing Green's fee. New total: 30.0\n"
     ]
    },
    {
     "name": "stdout",
     "output_type": "stream",
     "text": [
      "It took 1.3s to process all the cars.\n",
      "Total: 30.0\n"
     ]
    }
   ],
   "source": [
    "import logging\n",
    "import time\n",
    "import concurrent.futures\n",
    "import threading\n",
    "\n",
    "l = logging.getLogger(\"toll_booth\")\n",
    "h = logging.StreamHandler()\n",
    "f = logging.Formatter(\"%(asctime)s: %(message)s\")\n",
    "h.setFormatter(f)\n",
    "l.addHandler(h)\n",
    "l.setLevel(logging.INFO)\n",
    "\n",
    "\n",
    "class TollBooth:\n",
    "    def __init__(self):\n",
    "        self.register = 0.0\n",
    "        self.__lock = threading.Lock()\n",
    "\n",
    "    def process_fee(self, car, fee):\n",
    "        l.info(f\"Processing {car}'s fee. Current total: {self.register}\")\n",
    "        with self.__lock:\n",
    "            new_total = self.register + fee  # Toll booth calculates a new total\n",
    "            time.sleep(0.1)  # processing takes 0.1 seconds\n",
    "            self.register = new_total  # New total is saved after 0.1 seconds\n",
    "        # notice operations outside the critical section are still concurrent\n",
    "        time.sleep(1)\n",
    "        l.info(f\"Done processing {car}'s fee. New total: {self.register}\")\n",
    "\n",
    "\n",
    "if __name__ == \"__main__\":\n",
    "    cars = [\"Red\", \"Blue\", \"Green\"]\n",
    "    booth = TollBooth()\n",
    "\n",
    "    start_time = time.time()\n",
    "    with concurrent.futures.ThreadPoolExecutor(max_workers=3) as executor:\n",
    "        for c in cars:\n",
    "            executor.submit(booth.process_fee, c, 10.0)\n",
    "    delta_time = time.time() - start_time\n",
    "    print(f\"It took {delta_time:.1f}s to process all the cars.\")\n",
    "    print(f\"Total: {booth.register}\")\n"
   ]
  },
  {
   "cell_type": "code",
   "execution_count": null,
   "metadata": {},
   "outputs": [],
   "source": []
  }
 ],
 "metadata": {
  "kernelspec": {
   "display_name": "Python 3",
   "language": "python",
   "name": "python3"
  },
  "language_info": {
   "codemirror_mode": {
    "name": "ipython",
    "version": 3
   },
   "file_extension": ".py",
   "mimetype": "text/x-python",
   "name": "python",
   "nbconvert_exporter": "python",
   "pygments_lexer": "ipython3",
   "version": "3.7.6"
  }
 },
 "nbformat": 4,
 "nbformat_minor": 4
}
