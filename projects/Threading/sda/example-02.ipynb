{
 "cells": [
  {
   "cell_type": "code",
   "execution_count": 1,
   "metadata": {},
   "outputs": [
    {
     "name": "stderr",
     "output_type": "stream",
     "text": [
      "2020-07-10 20:47:25,727: Processing Red's fee...\n",
      "2020-07-10 20:47:25,729: Processing Blue's fee...\n",
      "2020-07-10 20:47:25,729: Processing Green's fee...\n",
      "2020-07-10 20:47:27,734: Done processing Red's fee.\n",
      "2020-07-10 20:47:27,734: Done processing Green's fee.\n",
      "2020-07-10 20:47:27,735: Done processing Blue's fee.\n"
     ]
    },
    {
     "name": "stdout",
     "output_type": "stream",
     "text": [
      "It took 2.0s to process all the cars.\n"
     ]
    }
   ],
   "source": [
    "import logging\n",
    "import time\n",
    "import threading\n",
    "\n",
    "l = logging.getLogger(\"toll_booth\")\n",
    "h = logging.StreamHandler()\n",
    "f = logging.Formatter(\"%(asctime)s: %(message)s\")\n",
    "h.setFormatter(f)\n",
    "l.addHandler(h)\n",
    "l.setLevel(logging.INFO)\n",
    "\n",
    "\n",
    "def process_toll_booth_fee(car):\n",
    "    l.info(f\"Processing {car}'s fee...\")\n",
    "    time.sleep(2)  # processing takes 2 seconds\n",
    "    l.info(f\"Done processing {car}'s fee.\")\n",
    "\n",
    "\n",
    "if __name__ == \"__main__\":\n",
    "    cars = [\"Red\", \"Blue\", \"Green\"]\n",
    "    threads = []\n",
    "\n",
    "    start_time = time.time()\n",
    "    for car in cars:\n",
    "        # launch a new thread for each car\n",
    "        new_thread = threading.Thread(target=process_toll_booth_fee, args=(car,))\n",
    "        threads.append(new_thread)\n",
    "        new_thread.start()\n",
    "\n",
    "    for t in threads:\n",
    "        t.join()\n",
    "    delta_time = time.time() - start_time\n",
    "    print(f\"It took {delta_time:.1f}s to process all the cars.\")\n"
   ]
  },
  {
   "cell_type": "code",
   "execution_count": null,
   "metadata": {},
   "outputs": [],
   "source": []
  }
 ],
 "metadata": {
  "kernelspec": {
   "display_name": "Python 3",
   "language": "python",
   "name": "python3"
  },
  "language_info": {
   "codemirror_mode": {
    "name": "ipython",
    "version": 3
   },
   "file_extension": ".py",
   "mimetype": "text/x-python",
   "name": "python",
   "nbconvert_exporter": "python",
   "pygments_lexer": "ipython3",
   "version": "3.7.6"
  }
 },
 "nbformat": 4,
 "nbformat_minor": 4
}
