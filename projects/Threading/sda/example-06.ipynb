{
 "cells": [
  {
   "cell_type": "code",
   "execution_count": 1,
   "metadata": {},
   "outputs": [
    {
     "name": "stderr",
     "output_type": "stream",
     "text": [
      "2020-07-10 20:54:21,037: Finished baking\n",
      "2020-07-10 20:54:21,038: Customer #1 got Bread #0\n",
      "2020-07-10 20:54:21,239: Finished baking\n",
      "2020-07-10 20:54:21,239: Customer #2 got Bread #1\n",
      "2020-07-10 20:54:21,445: Finished baking\n",
      "2020-07-10 20:54:21,446: Customer #3 got Bread #2\n",
      "2020-07-10 20:54:21,650: Finished baking\n",
      "2020-07-10 20:54:21,650: Customer #4 got Bread #3\n",
      "2020-07-10 20:54:21,854: Finished baking\n",
      "2020-07-10 20:54:22,056: Finished baking\n",
      "2020-07-10 20:54:22,262: Finished baking\n",
      "2020-07-10 20:54:22,465: Finished baking\n",
      "2020-07-10 20:54:22,607: Customer #2 got Bread #4\n",
      "2020-07-10 20:54:22,642: Customer #1 got Bread #5\n",
      "2020-07-10 20:54:22,666: Finished baking\n",
      "2020-07-10 20:54:22,774: Customer #3 got Bread #6\n",
      "2020-07-10 20:54:22,871: Finished baking\n",
      "2020-07-10 20:54:23,023: Customer #4 got Bread #7\n",
      "2020-07-10 20:54:23,076: Finished baking\n",
      "2020-07-10 20:54:23,277: Finished baking\n",
      "2020-07-10 20:54:23,540: Customer #3 got Bread #8\n",
      "2020-07-10 20:54:23,619: Customer #2 got Bread #9\n",
      "2020-07-10 20:54:24,083: Customer #4 got Bread #10\n",
      "2020-07-10 20:54:24,457: Customer #1 got Bread #11\n"
     ]
    }
   ],
   "source": [
    "import logging\n",
    "import time\n",
    "import concurrent.futures\n",
    "import queue\n",
    "import random\n",
    "\n",
    "l = logging.getLogger(\"bakery\")\n",
    "h = logging.StreamHandler()\n",
    "f = logging.Formatter(\"%(asctime)s: %(message)s\")\n",
    "h.setFormatter(f)\n",
    "l.addHandler(h)\n",
    "l.setLevel(logging.INFO)\n",
    "\n",
    "\n",
    "class Bakery:\n",
    "    def __init__(self):\n",
    "        self.storage = queue.Queue()\n",
    "\n",
    "    def baker(self):\n",
    "        for i in range(12):\n",
    "            self.storage.put(f\"Bread #{i}\")\n",
    "            l.info(\"Finished baking\")\n",
    "            time.sleep(0.2)\n",
    "\n",
    "    def customer(self, i):\n",
    "        for _ in range(3):\n",
    "            bread = self.storage.get()\n",
    "            l.info(f\"Customer #{i} got {bread}\")\n",
    "            time.sleep(random.uniform(0.5, 2.0))  # notice the random frequency\n",
    "\n",
    "\n",
    "if __name__ == \"__main__\":\n",
    "    mine = Bakery()\n",
    "    with concurrent.futures.ThreadPoolExecutor(max_workers=5) as executor:\n",
    "        executor.submit(mine.baker)\n",
    "        executor.submit(mine.customer, 1)\n",
    "        executor.submit(mine.customer, 2)\n",
    "        executor.submit(mine.customer, 3)\n",
    "        executor.submit(mine.customer, 4)\n"
   ]
  },
  {
   "cell_type": "code",
   "execution_count": null,
   "metadata": {},
   "outputs": [],
   "source": []
  }
 ],
 "metadata": {
  "kernelspec": {
   "display_name": "Python 3",
   "language": "python",
   "name": "python3"
  },
  "language_info": {
   "codemirror_mode": {
    "name": "ipython",
    "version": 3
   },
   "file_extension": ".py",
   "mimetype": "text/x-python",
   "name": "python",
   "nbconvert_exporter": "python",
   "pygments_lexer": "ipython3",
   "version": "3.7.6"
  }
 },
 "nbformat": 4,
 "nbformat_minor": 4
}
