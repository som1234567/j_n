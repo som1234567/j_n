{
 "cells": [
  {
   "cell_type": "code",
   "execution_count": 14,
   "metadata": {},
   "outputs": [
    {
     "name": "stdout",
     "output_type": "stream",
     "text": [
      "Baking bread...\n",
      "Finished baking\n",
      "Baking bread...\n",
      "Finished baking\n",
      "Bought bread(2)\n",
      "Baking bread...\n",
      "Finished baking\n",
      "Baking bread...\n",
      "Finished baking\n",
      "Bought bread(2)\n",
      "Baking bread...\n",
      "Finished baking\n",
      "Baking bread...\n",
      "Finished baking\n",
      "Bought bread(2)\n",
      "Baking bread...\n",
      "Finished baking\n",
      "Baking bread...\n",
      "Finished baking\n",
      "Bought bread(2)\n",
      "Baking bread...\n",
      "Finished baking\n",
      "Baking bread...\n",
      "Finished baking\n"
     ]
    }
   ],
   "source": [
    "\"\"\"\n",
    "Write a class `Bakery`, which:\n",
    "    - has a common variable called `storage` (int)\n",
    "    - has a function called `baker()` which (for 10 loops) notes down current \n",
    "      state of the storage, sleeps for 0.1s and adds 1 to the storage, then \n",
    "      sleeps for 1s\n",
    "    - has a function called `customer()` which (for 10 loops)notes down current \n",
    "      state of the storage, sleeps for 0.2s and removes 2 from the storage `if \n",
    "      storage >= 2`,, then sleeps for 1s\n",
    "- use `threading.Lock` to prevent race conditions\n",
    "- Run 2 customer threads and 1 baker thread\n",
    "- Use logging to ensure all functions are working\n",
    "\"\"\"\n",
    "import logging\n",
    "import time\n",
    "import concurrent.futures\n",
    "import threading\n",
    "\n",
    "l = logging.getLogger(\"bakery\")\n",
    "h = logging.StreamHandler()\n",
    "f = logging.Formatter(\"%(asctime)s: %(message)s\")\n",
    "h.setFormatter(f)\n",
    "l.addHandler(h)\n",
    "l.setLevel(logging.INFO)\n",
    "\n",
    "\n",
    "class Bakery:\n",
    "    def __init__(self):\n",
    "        self.storage = 0\n",
    "        # self.__lock = threading.Lock()\n",
    "\n",
    "    def baker(self, __lock):\n",
    "        for _ in range(10):\n",
    "            print(\"Baking bread...\")\n",
    "            with __lock:\n",
    "                s = self.storage\n",
    "                time.sleep(0.1)\n",
    "                self.storage = s + 1\n",
    "            print(\"Finished baking\")\n",
    "            time.sleep(1)\n",
    "\n",
    "    def customer(self, __lock):\n",
    "        for _ in range(10):\n",
    "            with __lock:\n",
    "                s = self.storage\n",
    "                if s >= 2:\n",
    "                    time.sleep(0.1)\n",
    "                    self.storage = s - 2\n",
    "                    print(\"Bought bread(2)\")\n",
    "            time.sleep(1)\n",
    "\n",
    "\n",
    "if __name__ == \"__main__\":\n",
    "    mine = Bakery()\n",
    "    __lock = threading.Lock()\n",
    "    with concurrent.futures.ThreadPoolExecutor(max_workers=3) as executor:\n",
    "        executor.submit(mine.customer, __lock)\n",
    "        executor.submit(mine.baker, __lock)\n",
    "        executor.submit(mine.customer, __lock)\n"
   ]
  },
  {
   "cell_type": "code",
   "execution_count": null,
   "metadata": {},
   "outputs": [],
   "source": []
  },
  {
   "cell_type": "code",
   "execution_count": null,
   "metadata": {},
   "outputs": [],
   "source": []
  }
 ],
 "metadata": {
  "kernelspec": {
   "display_name": "Python 3",
   "language": "python",
   "name": "python3"
  },
  "language_info": {
   "codemirror_mode": {
    "name": "ipython",
    "version": 3
   },
   "file_extension": ".py",
   "mimetype": "text/x-python",
   "name": "python",
   "nbconvert_exporter": "python",
   "pygments_lexer": "ipython3",
   "version": "3.7.6"
  }
 },
 "nbformat": 4,
 "nbformat_minor": 4
}
