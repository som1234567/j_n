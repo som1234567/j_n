{
 "cells": [
  {
   "cell_type": "code",
   "execution_count": 1,
   "metadata": {},
   "outputs": [
    {
     "name": "stderr",
     "output_type": "stream",
     "text": [
      "2020-07-10 20:56:07,049: Socket server is up\n",
      "2020-07-10 20:56:07,050: Client is active\n"
     ]
    },
    {
     "name": "stdout",
     "output_type": "stream",
     "text": [
      "Message: hello its me suehan\n",
      "Server: hello its me suehan\n",
      "Message: and you ?\n",
      "Server: and you ?\n",
      "Message: kdsjfklsj\n"
     ]
    },
    {
     "name": "stderr",
     "output_type": "stream",
     "text": [
      "2020-07-10 20:56:33,662: Closing socket server\n",
      "2020-07-10 20:56:33,662: Closing client\n"
     ]
    },
    {
     "name": "stdout",
     "output_type": "stream",
     "text": [
      "Server: kdsjfklsj\n"
     ]
    }
   ],
   "source": [
    "import socket\n",
    "import sys\n",
    "import threading\n",
    "import logging\n",
    "\n",
    "l = logging.getLogger(\"sockets\")\n",
    "h = logging.StreamHandler()\n",
    "f = logging.Formatter(\"%(asctime)s: %(message)s\")\n",
    "h.setFormatter(f)\n",
    "l.addHandler(h)\n",
    "l.setLevel(logging.INFO)\n",
    "\n",
    "\n",
    "def server(listen_on_port):\n",
    "    try:\n",
    "        sock = socket.socket(socket.AF_INET, socket.SOCK_STREAM)\n",
    "    except socket.error:\n",
    "        l.critical(\"Error creating socket server\")\n",
    "        sys.exit(1)\n",
    "    sock.bind((\"0.0.0.0\", listen_on_port))\n",
    "    sock.listen(1)\n",
    "    l.info(\"Socket server is up\")\n",
    "    connection, _ = sock.accept()\n",
    "    for _ in range(3):\n",
    "        data = connection.recv(1024)  # 1024 is max. buffer length\n",
    "        connection.sendall(f\"Server: {data.decode()}\".encode())\n",
    "    connection.close()\n",
    "    l.info(\"Closing socket server\")\n",
    "    sock.close()\n",
    "\n",
    "\n",
    "def client(send_to_port):\n",
    "    try:\n",
    "        sock = socket.socket(socket.AF_INET, socket.SOCK_STREAM)\n",
    "    except socket.error:\n",
    "        l.critical(\"Error creating socket server\")\n",
    "        sys.exit(1)\n",
    "    l.info(\"Client is active\")\n",
    "    sock.connect((\"localhost\", send_to_port))\n",
    "    for _ in range(3):\n",
    "        sock.sendall(input(\"Message: \").encode())\n",
    "        print(sock.recv(1024).decode())\n",
    "    sock.close()\n",
    "    l.info(\"Closing client\")\n",
    "\n",
    "\n",
    "if __name__ == \"__main__\":\n",
    "    port = 8081\n",
    "    srv = threading.Thread(target=server, args=(port,))\n",
    "    srv.start()\n",
    "    client(port)\n",
    "    srv.join()\n"
   ]
  },
  {
   "cell_type": "code",
   "execution_count": null,
   "metadata": {},
   "outputs": [],
   "source": []
  }
 ],
 "metadata": {
  "kernelspec": {
   "display_name": "Python 3",
   "language": "python",
   "name": "python3"
  },
  "language_info": {
   "codemirror_mode": {
    "name": "ipython",
    "version": 3
   },
   "file_extension": ".py",
   "mimetype": "text/x-python",
   "name": "python",
   "nbconvert_exporter": "python",
   "pygments_lexer": "ipython3",
   "version": "3.7.6"
  }
 },
 "nbformat": 4,
 "nbformat_minor": 4
}
